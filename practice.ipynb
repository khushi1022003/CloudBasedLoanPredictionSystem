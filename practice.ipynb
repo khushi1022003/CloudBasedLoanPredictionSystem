{
  "cells": [
    {
      "cell_type": "code",
      "execution_count": 29,
      "metadata": {
        "id": "0XQzUs88BZi4"
      },
      "outputs": [],
      "source": [
        "import pandas as pd\n",
        "import numpy as np\n",
        "import matplotlib.pyplot as plt\n",
        "%matplotlib inline\n",
        "\n",
        "import seaborn as sns\n"
      ]
    },
    {
      "cell_type": "code",
      "execution_count": 30,
      "metadata": {
        "id": "Yy0k3Rr-Bdgw"
      },
      "outputs": [],
      "source": [
        "train=pd.read_csv('/content/credit_train.csv')"
      ]
    },
    {
      "cell_type": "code",
      "execution_count": 31,
      "metadata": {
        "colab": {
          "base_uri": "https://localhost:8080/",
          "height": 582
        },
        "id": "xJxiqXv8Bdjs",
        "outputId": "2e9af953-8437-446f-f4bf-9f1f4072367c"
      },
      "outputs": [
        {
          "output_type": "execute_result",
          "data": {
            "text/plain": [
              "                                Loan ID                           Customer ID  \\\n",
              "0  14dd8831-6af5-400b-83ec-68e61888a048  981165ec-3274-42f5-a3b4-d104041a9ca9   \n",
              "1  4771cc26-131a-45db-b5aa-537ea4ba5342  2de017a3-2e01-49cb-a581-08169e83be29   \n",
              "2  4eed4e6a-aa2f-4c91-8651-ce984ee8fb26  5efb2b2b-bf11-4dfd-a572-3761a2694725   \n",
              "3  77598f7b-32e7-4e3b-a6e5-06ba0d98fe8a  e777faab-98ae-45af-9a86-7ce5b33b1011   \n",
              "4  d4062e70-befa-4995-8643-a0de73938182  81536ad9-5ccf-4eb8-befb-47a4d608658e   \n",
              "\n",
              "  Loan Status  Current Loan Amount        Term  Credit Score  Annual Income  \\\n",
              "0  Fully Paid             445412.0  Short Term         709.0      1167493.0   \n",
              "1  Fully Paid             262328.0  Short Term           NaN            NaN   \n",
              "2  Fully Paid           99999999.0  Short Term         741.0      2231892.0   \n",
              "3  Fully Paid             347666.0   Long Term         721.0       806949.0   \n",
              "4  Fully Paid             176220.0  Short Term           NaN            NaN   \n",
              "\n",
              "  Years in current job Home Ownership             Purpose  Monthly Debt  \\\n",
              "0              8 years  Home Mortgage   Home Improvements       5214.74   \n",
              "1            10+ years  Home Mortgage  Debt Consolidation      33295.98   \n",
              "2              8 years       Own Home  Debt Consolidation      29200.53   \n",
              "3              3 years       Own Home  Debt Consolidation       8741.90   \n",
              "4              5 years           Rent  Debt Consolidation      20639.70   \n",
              "\n",
              "   Years of Credit History  Months since last delinquent  \\\n",
              "0                     17.2                           NaN   \n",
              "1                     21.1                           8.0   \n",
              "2                     14.9                          29.0   \n",
              "3                     12.0                           NaN   \n",
              "4                      6.1                           NaN   \n",
              "\n",
              "   Number of Open Accounts  Number of Credit Problems  Current Credit Balance  \\\n",
              "0                      6.0                        1.0                228190.0   \n",
              "1                     35.0                        0.0                229976.0   \n",
              "2                     18.0                        1.0                297996.0   \n",
              "3                      9.0                        0.0                256329.0   \n",
              "4                     15.0                        0.0                253460.0   \n",
              "\n",
              "   Maximum Open Credit  Bankruptcies  Tax Liens  \n",
              "0             416746.0           1.0        0.0  \n",
              "1             850784.0           0.0        0.0  \n",
              "2             750090.0           0.0        0.0  \n",
              "3             386958.0           0.0        0.0  \n",
              "4             427174.0           0.0        0.0  "
            ],
            "text/html": [
              "\n",
              "  <div id=\"df-e6a31775-9c8e-4b02-bfd8-e66b9fa320c2\">\n",
              "    <div class=\"colab-df-container\">\n",
              "      <div>\n",
              "<style scoped>\n",
              "    .dataframe tbody tr th:only-of-type {\n",
              "        vertical-align: middle;\n",
              "    }\n",
              "\n",
              "    .dataframe tbody tr th {\n",
              "        vertical-align: top;\n",
              "    }\n",
              "\n",
              "    .dataframe thead th {\n",
              "        text-align: right;\n",
              "    }\n",
              "</style>\n",
              "<table border=\"1\" class=\"dataframe\">\n",
              "  <thead>\n",
              "    <tr style=\"text-align: right;\">\n",
              "      <th></th>\n",
              "      <th>Loan ID</th>\n",
              "      <th>Customer ID</th>\n",
              "      <th>Loan Status</th>\n",
              "      <th>Current Loan Amount</th>\n",
              "      <th>Term</th>\n",
              "      <th>Credit Score</th>\n",
              "      <th>Annual Income</th>\n",
              "      <th>Years in current job</th>\n",
              "      <th>Home Ownership</th>\n",
              "      <th>Purpose</th>\n",
              "      <th>Monthly Debt</th>\n",
              "      <th>Years of Credit History</th>\n",
              "      <th>Months since last delinquent</th>\n",
              "      <th>Number of Open Accounts</th>\n",
              "      <th>Number of Credit Problems</th>\n",
              "      <th>Current Credit Balance</th>\n",
              "      <th>Maximum Open Credit</th>\n",
              "      <th>Bankruptcies</th>\n",
              "      <th>Tax Liens</th>\n",
              "    </tr>\n",
              "  </thead>\n",
              "  <tbody>\n",
              "    <tr>\n",
              "      <th>0</th>\n",
              "      <td>14dd8831-6af5-400b-83ec-68e61888a048</td>\n",
              "      <td>981165ec-3274-42f5-a3b4-d104041a9ca9</td>\n",
              "      <td>Fully Paid</td>\n",
              "      <td>445412.0</td>\n",
              "      <td>Short Term</td>\n",
              "      <td>709.0</td>\n",
              "      <td>1167493.0</td>\n",
              "      <td>8 years</td>\n",
              "      <td>Home Mortgage</td>\n",
              "      <td>Home Improvements</td>\n",
              "      <td>5214.74</td>\n",
              "      <td>17.2</td>\n",
              "      <td>NaN</td>\n",
              "      <td>6.0</td>\n",
              "      <td>1.0</td>\n",
              "      <td>228190.0</td>\n",
              "      <td>416746.0</td>\n",
              "      <td>1.0</td>\n",
              "      <td>0.0</td>\n",
              "    </tr>\n",
              "    <tr>\n",
              "      <th>1</th>\n",
              "      <td>4771cc26-131a-45db-b5aa-537ea4ba5342</td>\n",
              "      <td>2de017a3-2e01-49cb-a581-08169e83be29</td>\n",
              "      <td>Fully Paid</td>\n",
              "      <td>262328.0</td>\n",
              "      <td>Short Term</td>\n",
              "      <td>NaN</td>\n",
              "      <td>NaN</td>\n",
              "      <td>10+ years</td>\n",
              "      <td>Home Mortgage</td>\n",
              "      <td>Debt Consolidation</td>\n",
              "      <td>33295.98</td>\n",
              "      <td>21.1</td>\n",
              "      <td>8.0</td>\n",
              "      <td>35.0</td>\n",
              "      <td>0.0</td>\n",
              "      <td>229976.0</td>\n",
              "      <td>850784.0</td>\n",
              "      <td>0.0</td>\n",
              "      <td>0.0</td>\n",
              "    </tr>\n",
              "    <tr>\n",
              "      <th>2</th>\n",
              "      <td>4eed4e6a-aa2f-4c91-8651-ce984ee8fb26</td>\n",
              "      <td>5efb2b2b-bf11-4dfd-a572-3761a2694725</td>\n",
              "      <td>Fully Paid</td>\n",
              "      <td>99999999.0</td>\n",
              "      <td>Short Term</td>\n",
              "      <td>741.0</td>\n",
              "      <td>2231892.0</td>\n",
              "      <td>8 years</td>\n",
              "      <td>Own Home</td>\n",
              "      <td>Debt Consolidation</td>\n",
              "      <td>29200.53</td>\n",
              "      <td>14.9</td>\n",
              "      <td>29.0</td>\n",
              "      <td>18.0</td>\n",
              "      <td>1.0</td>\n",
              "      <td>297996.0</td>\n",
              "      <td>750090.0</td>\n",
              "      <td>0.0</td>\n",
              "      <td>0.0</td>\n",
              "    </tr>\n",
              "    <tr>\n",
              "      <th>3</th>\n",
              "      <td>77598f7b-32e7-4e3b-a6e5-06ba0d98fe8a</td>\n",
              "      <td>e777faab-98ae-45af-9a86-7ce5b33b1011</td>\n",
              "      <td>Fully Paid</td>\n",
              "      <td>347666.0</td>\n",
              "      <td>Long Term</td>\n",
              "      <td>721.0</td>\n",
              "      <td>806949.0</td>\n",
              "      <td>3 years</td>\n",
              "      <td>Own Home</td>\n",
              "      <td>Debt Consolidation</td>\n",
              "      <td>8741.90</td>\n",
              "      <td>12.0</td>\n",
              "      <td>NaN</td>\n",
              "      <td>9.0</td>\n",
              "      <td>0.0</td>\n",
              "      <td>256329.0</td>\n",
              "      <td>386958.0</td>\n",
              "      <td>0.0</td>\n",
              "      <td>0.0</td>\n",
              "    </tr>\n",
              "    <tr>\n",
              "      <th>4</th>\n",
              "      <td>d4062e70-befa-4995-8643-a0de73938182</td>\n",
              "      <td>81536ad9-5ccf-4eb8-befb-47a4d608658e</td>\n",
              "      <td>Fully Paid</td>\n",
              "      <td>176220.0</td>\n",
              "      <td>Short Term</td>\n",
              "      <td>NaN</td>\n",
              "      <td>NaN</td>\n",
              "      <td>5 years</td>\n",
              "      <td>Rent</td>\n",
              "      <td>Debt Consolidation</td>\n",
              "      <td>20639.70</td>\n",
              "      <td>6.1</td>\n",
              "      <td>NaN</td>\n",
              "      <td>15.0</td>\n",
              "      <td>0.0</td>\n",
              "      <td>253460.0</td>\n",
              "      <td>427174.0</td>\n",
              "      <td>0.0</td>\n",
              "      <td>0.0</td>\n",
              "    </tr>\n",
              "  </tbody>\n",
              "</table>\n",
              "</div>\n",
              "      <button class=\"colab-df-convert\" onclick=\"convertToInteractive('df-e6a31775-9c8e-4b02-bfd8-e66b9fa320c2')\"\n",
              "              title=\"Convert this dataframe to an interactive table.\"\n",
              "              style=\"display:none;\">\n",
              "        \n",
              "  <svg xmlns=\"http://www.w3.org/2000/svg\" height=\"24px\"viewBox=\"0 0 24 24\"\n",
              "       width=\"24px\">\n",
              "    <path d=\"M0 0h24v24H0V0z\" fill=\"none\"/>\n",
              "    <path d=\"M18.56 5.44l.94 2.06.94-2.06 2.06-.94-2.06-.94-.94-2.06-.94 2.06-2.06.94zm-11 1L8.5 8.5l.94-2.06 2.06-.94-2.06-.94L8.5 2.5l-.94 2.06-2.06.94zm10 10l.94 2.06.94-2.06 2.06-.94-2.06-.94-.94-2.06-.94 2.06-2.06.94z\"/><path d=\"M17.41 7.96l-1.37-1.37c-.4-.4-.92-.59-1.43-.59-.52 0-1.04.2-1.43.59L10.3 9.45l-7.72 7.72c-.78.78-.78 2.05 0 2.83L4 21.41c.39.39.9.59 1.41.59.51 0 1.02-.2 1.41-.59l7.78-7.78 2.81-2.81c.8-.78.8-2.07 0-2.86zM5.41 20L4 18.59l7.72-7.72 1.47 1.35L5.41 20z\"/>\n",
              "  </svg>\n",
              "      </button>\n",
              "      \n",
              "  <style>\n",
              "    .colab-df-container {\n",
              "      display:flex;\n",
              "      flex-wrap:wrap;\n",
              "      gap: 12px;\n",
              "    }\n",
              "\n",
              "    .colab-df-convert {\n",
              "      background-color: #E8F0FE;\n",
              "      border: none;\n",
              "      border-radius: 50%;\n",
              "      cursor: pointer;\n",
              "      display: none;\n",
              "      fill: #1967D2;\n",
              "      height: 32px;\n",
              "      padding: 0 0 0 0;\n",
              "      width: 32px;\n",
              "    }\n",
              "\n",
              "    .colab-df-convert:hover {\n",
              "      background-color: #E2EBFA;\n",
              "      box-shadow: 0px 1px 2px rgba(60, 64, 67, 0.3), 0px 1px 3px 1px rgba(60, 64, 67, 0.15);\n",
              "      fill: #174EA6;\n",
              "    }\n",
              "\n",
              "    [theme=dark] .colab-df-convert {\n",
              "      background-color: #3B4455;\n",
              "      fill: #D2E3FC;\n",
              "    }\n",
              "\n",
              "    [theme=dark] .colab-df-convert:hover {\n",
              "      background-color: #434B5C;\n",
              "      box-shadow: 0px 1px 3px 1px rgba(0, 0, 0, 0.15);\n",
              "      filter: drop-shadow(0px 1px 2px rgba(0, 0, 0, 0.3));\n",
              "      fill: #FFFFFF;\n",
              "    }\n",
              "  </style>\n",
              "\n",
              "      <script>\n",
              "        const buttonEl =\n",
              "          document.querySelector('#df-e6a31775-9c8e-4b02-bfd8-e66b9fa320c2 button.colab-df-convert');\n",
              "        buttonEl.style.display =\n",
              "          google.colab.kernel.accessAllowed ? 'block' : 'none';\n",
              "\n",
              "        async function convertToInteractive(key) {\n",
              "          const element = document.querySelector('#df-e6a31775-9c8e-4b02-bfd8-e66b9fa320c2');\n",
              "          const dataTable =\n",
              "            await google.colab.kernel.invokeFunction('convertToInteractive',\n",
              "                                                     [key], {});\n",
              "          if (!dataTable) return;\n",
              "\n",
              "          const docLinkHtml = 'Like what you see? Visit the ' +\n",
              "            '<a target=\"_blank\" href=https://colab.research.google.com/notebooks/data_table.ipynb>data table notebook</a>'\n",
              "            + ' to learn more about interactive tables.';\n",
              "          element.innerHTML = '';\n",
              "          dataTable['output_type'] = 'display_data';\n",
              "          await google.colab.output.renderOutput(dataTable, element);\n",
              "          const docLink = document.createElement('div');\n",
              "          docLink.innerHTML = docLinkHtml;\n",
              "          element.appendChild(docLink);\n",
              "        }\n",
              "      </script>\n",
              "    </div>\n",
              "  </div>\n",
              "  "
            ]
          },
          "metadata": {},
          "execution_count": 31
        }
      ],
      "source": [
        "train.head()\n"
      ]
    },
    {
      "cell_type": "code",
      "execution_count": 32,
      "metadata": {
        "id": "IRn4TBCDBdmi"
      },
      "outputs": [],
      "source": [
        "test=pd.read_csv('/content/credit_test.csv')"
      ]
    },
    {
      "cell_type": "code",
      "execution_count": 33,
      "metadata": {
        "colab": {
          "base_uri": "https://localhost:8080/",
          "height": 582
        },
        "id": "l_1D8aVpBdov",
        "outputId": "c5496ea6-7d83-449c-ecb0-87afdf2fde8f"
      },
      "outputs": [
        {
          "output_type": "execute_result",
          "data": {
            "text/plain": [
              "                                Loan ID                           Customer ID  \\\n",
              "0  f738779f-c726-40dc-92cf-689d73af533d  ded0b3c3-6bf4-4091-8726-47039f2c1b90   \n",
              "1  6dcc0947-164d-476c-a1de-3ae7283dde0a  1630e6e3-34e3-461a-8fda-09297d3140c8   \n",
              "2  f7744d01-894b-49c3-8777-fc6431a2cff1  2c60938b-ad2b-4702-804d-eeca43949c52   \n",
              "3  83721ffb-b99a-4a0f-aea5-ef472a138b41  12116614-2f3c-4d16-ad34-d92883718806   \n",
              "4  08f3789f-5714-4b10-929d-e1527ab5e5a3  39888105-fd5f-4023-860a-30a3e6f5ccb7   \n",
              "\n",
              "   Current Loan Amount        Term  Credit Score  Annual Income  \\\n",
              "0             611314.0  Short Term         747.0      2074116.0   \n",
              "1             266662.0  Short Term         734.0      1919190.0   \n",
              "2             153494.0  Short Term         709.0       871112.0   \n",
              "3             176242.0  Short Term         727.0       780083.0   \n",
              "4             321992.0  Short Term         744.0      1761148.0   \n",
              "\n",
              "  Years in current job Home Ownership             Purpose  Monthly Debt  \\\n",
              "0            10+ years  Home Mortgage  Debt Consolidation      42000.83   \n",
              "1            10+ years  Home Mortgage  Debt Consolidation      36624.40   \n",
              "2              2 years           Rent  Debt Consolidation       8391.73   \n",
              "3            10+ years           Rent  Debt Consolidation      16771.87   \n",
              "4            10+ years  Home Mortgage  Debt Consolidation      39478.77   \n",
              "\n",
              "   Years of Credit History  Months since last delinquent  \\\n",
              "0                     21.8                           NaN   \n",
              "1                     19.4                           NaN   \n",
              "2                     12.5                          10.0   \n",
              "3                     16.5                          27.0   \n",
              "4                     26.0                          44.0   \n",
              "\n",
              "   Number of Open Accounts  Number of Credit Problems  Current Credit Balance  \\\n",
              "0                      9.0                        0.0                621908.0   \n",
              "1                     11.0                        0.0                679573.0   \n",
              "2                     10.0                        0.0                 38532.0   \n",
              "3                     16.0                        1.0                156940.0   \n",
              "4                     14.0                        0.0                359765.0   \n",
              "\n",
              "   Maximum Open Credit  Bankruptcies  Tax Liens  \n",
              "0            1058970.0           0.0        0.0  \n",
              "1             904442.0           0.0        0.0  \n",
              "2             388036.0           0.0        0.0  \n",
              "3             531322.0           1.0        0.0  \n",
              "4             468072.0           0.0        0.0  "
            ],
            "text/html": [
              "\n",
              "  <div id=\"df-320b72fd-6e74-4a7e-96f2-43ec8f643cfb\">\n",
              "    <div class=\"colab-df-container\">\n",
              "      <div>\n",
              "<style scoped>\n",
              "    .dataframe tbody tr th:only-of-type {\n",
              "        vertical-align: middle;\n",
              "    }\n",
              "\n",
              "    .dataframe tbody tr th {\n",
              "        vertical-align: top;\n",
              "    }\n",
              "\n",
              "    .dataframe thead th {\n",
              "        text-align: right;\n",
              "    }\n",
              "</style>\n",
              "<table border=\"1\" class=\"dataframe\">\n",
              "  <thead>\n",
              "    <tr style=\"text-align: right;\">\n",
              "      <th></th>\n",
              "      <th>Loan ID</th>\n",
              "      <th>Customer ID</th>\n",
              "      <th>Current Loan Amount</th>\n",
              "      <th>Term</th>\n",
              "      <th>Credit Score</th>\n",
              "      <th>Annual Income</th>\n",
              "      <th>Years in current job</th>\n",
              "      <th>Home Ownership</th>\n",
              "      <th>Purpose</th>\n",
              "      <th>Monthly Debt</th>\n",
              "      <th>Years of Credit History</th>\n",
              "      <th>Months since last delinquent</th>\n",
              "      <th>Number of Open Accounts</th>\n",
              "      <th>Number of Credit Problems</th>\n",
              "      <th>Current Credit Balance</th>\n",
              "      <th>Maximum Open Credit</th>\n",
              "      <th>Bankruptcies</th>\n",
              "      <th>Tax Liens</th>\n",
              "    </tr>\n",
              "  </thead>\n",
              "  <tbody>\n",
              "    <tr>\n",
              "      <th>0</th>\n",
              "      <td>f738779f-c726-40dc-92cf-689d73af533d</td>\n",
              "      <td>ded0b3c3-6bf4-4091-8726-47039f2c1b90</td>\n",
              "      <td>611314.0</td>\n",
              "      <td>Short Term</td>\n",
              "      <td>747.0</td>\n",
              "      <td>2074116.0</td>\n",
              "      <td>10+ years</td>\n",
              "      <td>Home Mortgage</td>\n",
              "      <td>Debt Consolidation</td>\n",
              "      <td>42000.83</td>\n",
              "      <td>21.8</td>\n",
              "      <td>NaN</td>\n",
              "      <td>9.0</td>\n",
              "      <td>0.0</td>\n",
              "      <td>621908.0</td>\n",
              "      <td>1058970.0</td>\n",
              "      <td>0.0</td>\n",
              "      <td>0.0</td>\n",
              "    </tr>\n",
              "    <tr>\n",
              "      <th>1</th>\n",
              "      <td>6dcc0947-164d-476c-a1de-3ae7283dde0a</td>\n",
              "      <td>1630e6e3-34e3-461a-8fda-09297d3140c8</td>\n",
              "      <td>266662.0</td>\n",
              "      <td>Short Term</td>\n",
              "      <td>734.0</td>\n",
              "      <td>1919190.0</td>\n",
              "      <td>10+ years</td>\n",
              "      <td>Home Mortgage</td>\n",
              "      <td>Debt Consolidation</td>\n",
              "      <td>36624.40</td>\n",
              "      <td>19.4</td>\n",
              "      <td>NaN</td>\n",
              "      <td>11.0</td>\n",
              "      <td>0.0</td>\n",
              "      <td>679573.0</td>\n",
              "      <td>904442.0</td>\n",
              "      <td>0.0</td>\n",
              "      <td>0.0</td>\n",
              "    </tr>\n",
              "    <tr>\n",
              "      <th>2</th>\n",
              "      <td>f7744d01-894b-49c3-8777-fc6431a2cff1</td>\n",
              "      <td>2c60938b-ad2b-4702-804d-eeca43949c52</td>\n",
              "      <td>153494.0</td>\n",
              "      <td>Short Term</td>\n",
              "      <td>709.0</td>\n",
              "      <td>871112.0</td>\n",
              "      <td>2 years</td>\n",
              "      <td>Rent</td>\n",
              "      <td>Debt Consolidation</td>\n",
              "      <td>8391.73</td>\n",
              "      <td>12.5</td>\n",
              "      <td>10.0</td>\n",
              "      <td>10.0</td>\n",
              "      <td>0.0</td>\n",
              "      <td>38532.0</td>\n",
              "      <td>388036.0</td>\n",
              "      <td>0.0</td>\n",
              "      <td>0.0</td>\n",
              "    </tr>\n",
              "    <tr>\n",
              "      <th>3</th>\n",
              "      <td>83721ffb-b99a-4a0f-aea5-ef472a138b41</td>\n",
              "      <td>12116614-2f3c-4d16-ad34-d92883718806</td>\n",
              "      <td>176242.0</td>\n",
              "      <td>Short Term</td>\n",
              "      <td>727.0</td>\n",
              "      <td>780083.0</td>\n",
              "      <td>10+ years</td>\n",
              "      <td>Rent</td>\n",
              "      <td>Debt Consolidation</td>\n",
              "      <td>16771.87</td>\n",
              "      <td>16.5</td>\n",
              "      <td>27.0</td>\n",
              "      <td>16.0</td>\n",
              "      <td>1.0</td>\n",
              "      <td>156940.0</td>\n",
              "      <td>531322.0</td>\n",
              "      <td>1.0</td>\n",
              "      <td>0.0</td>\n",
              "    </tr>\n",
              "    <tr>\n",
              "      <th>4</th>\n",
              "      <td>08f3789f-5714-4b10-929d-e1527ab5e5a3</td>\n",
              "      <td>39888105-fd5f-4023-860a-30a3e6f5ccb7</td>\n",
              "      <td>321992.0</td>\n",
              "      <td>Short Term</td>\n",
              "      <td>744.0</td>\n",
              "      <td>1761148.0</td>\n",
              "      <td>10+ years</td>\n",
              "      <td>Home Mortgage</td>\n",
              "      <td>Debt Consolidation</td>\n",
              "      <td>39478.77</td>\n",
              "      <td>26.0</td>\n",
              "      <td>44.0</td>\n",
              "      <td>14.0</td>\n",
              "      <td>0.0</td>\n",
              "      <td>359765.0</td>\n",
              "      <td>468072.0</td>\n",
              "      <td>0.0</td>\n",
              "      <td>0.0</td>\n",
              "    </tr>\n",
              "  </tbody>\n",
              "</table>\n",
              "</div>\n",
              "      <button class=\"colab-df-convert\" onclick=\"convertToInteractive('df-320b72fd-6e74-4a7e-96f2-43ec8f643cfb')\"\n",
              "              title=\"Convert this dataframe to an interactive table.\"\n",
              "              style=\"display:none;\">\n",
              "        \n",
              "  <svg xmlns=\"http://www.w3.org/2000/svg\" height=\"24px\"viewBox=\"0 0 24 24\"\n",
              "       width=\"24px\">\n",
              "    <path d=\"M0 0h24v24H0V0z\" fill=\"none\"/>\n",
              "    <path d=\"M18.56 5.44l.94 2.06.94-2.06 2.06-.94-2.06-.94-.94-2.06-.94 2.06-2.06.94zm-11 1L8.5 8.5l.94-2.06 2.06-.94-2.06-.94L8.5 2.5l-.94 2.06-2.06.94zm10 10l.94 2.06.94-2.06 2.06-.94-2.06-.94-.94-2.06-.94 2.06-2.06.94z\"/><path d=\"M17.41 7.96l-1.37-1.37c-.4-.4-.92-.59-1.43-.59-.52 0-1.04.2-1.43.59L10.3 9.45l-7.72 7.72c-.78.78-.78 2.05 0 2.83L4 21.41c.39.39.9.59 1.41.59.51 0 1.02-.2 1.41-.59l7.78-7.78 2.81-2.81c.8-.78.8-2.07 0-2.86zM5.41 20L4 18.59l7.72-7.72 1.47 1.35L5.41 20z\"/>\n",
              "  </svg>\n",
              "      </button>\n",
              "      \n",
              "  <style>\n",
              "    .colab-df-container {\n",
              "      display:flex;\n",
              "      flex-wrap:wrap;\n",
              "      gap: 12px;\n",
              "    }\n",
              "\n",
              "    .colab-df-convert {\n",
              "      background-color: #E8F0FE;\n",
              "      border: none;\n",
              "      border-radius: 50%;\n",
              "      cursor: pointer;\n",
              "      display: none;\n",
              "      fill: #1967D2;\n",
              "      height: 32px;\n",
              "      padding: 0 0 0 0;\n",
              "      width: 32px;\n",
              "    }\n",
              "\n",
              "    .colab-df-convert:hover {\n",
              "      background-color: #E2EBFA;\n",
              "      box-shadow: 0px 1px 2px rgba(60, 64, 67, 0.3), 0px 1px 3px 1px rgba(60, 64, 67, 0.15);\n",
              "      fill: #174EA6;\n",
              "    }\n",
              "\n",
              "    [theme=dark] .colab-df-convert {\n",
              "      background-color: #3B4455;\n",
              "      fill: #D2E3FC;\n",
              "    }\n",
              "\n",
              "    [theme=dark] .colab-df-convert:hover {\n",
              "      background-color: #434B5C;\n",
              "      box-shadow: 0px 1px 3px 1px rgba(0, 0, 0, 0.15);\n",
              "      filter: drop-shadow(0px 1px 2px rgba(0, 0, 0, 0.3));\n",
              "      fill: #FFFFFF;\n",
              "    }\n",
              "  </style>\n",
              "\n",
              "      <script>\n",
              "        const buttonEl =\n",
              "          document.querySelector('#df-320b72fd-6e74-4a7e-96f2-43ec8f643cfb button.colab-df-convert');\n",
              "        buttonEl.style.display =\n",
              "          google.colab.kernel.accessAllowed ? 'block' : 'none';\n",
              "\n",
              "        async function convertToInteractive(key) {\n",
              "          const element = document.querySelector('#df-320b72fd-6e74-4a7e-96f2-43ec8f643cfb');\n",
              "          const dataTable =\n",
              "            await google.colab.kernel.invokeFunction('convertToInteractive',\n",
              "                                                     [key], {});\n",
              "          if (!dataTable) return;\n",
              "\n",
              "          const docLinkHtml = 'Like what you see? Visit the ' +\n",
              "            '<a target=\"_blank\" href=https://colab.research.google.com/notebooks/data_table.ipynb>data table notebook</a>'\n",
              "            + ' to learn more about interactive tables.';\n",
              "          element.innerHTML = '';\n",
              "          dataTable['output_type'] = 'display_data';\n",
              "          await google.colab.output.renderOutput(dataTable, element);\n",
              "          const docLink = document.createElement('div');\n",
              "          docLink.innerHTML = docLinkHtml;\n",
              "          element.appendChild(docLink);\n",
              "        }\n",
              "      </script>\n",
              "    </div>\n",
              "  </div>\n",
              "  "
            ]
          },
          "metadata": {},
          "execution_count": 33
        }
      ],
      "source": [
        "test.head()"
      ]
    },
    {
      "cell_type": "code",
      "execution_count": 34,
      "metadata": {
        "colab": {
          "base_uri": "https://localhost:8080/"
        },
        "id": "gB980lMKBdqv",
        "outputId": "02ef732d-76cb-494d-ef2a-21f3cebada5d"
      },
      "outputs": [
        {
          "output_type": "stream",
          "name": "stdout",
          "text": [
            "<class 'pandas.core.frame.DataFrame'>\n",
            "RangeIndex: 100514 entries, 0 to 100513\n",
            "Data columns (total 19 columns):\n",
            " #   Column                        Non-Null Count   Dtype  \n",
            "---  ------                        --------------   -----  \n",
            " 0   Loan ID                       100000 non-null  object \n",
            " 1   Customer ID                   100000 non-null  object \n",
            " 2   Loan Status                   100000 non-null  object \n",
            " 3   Current Loan Amount           100000 non-null  float64\n",
            " 4   Term                          100000 non-null  object \n",
            " 5   Credit Score                  80846 non-null   float64\n",
            " 6   Annual Income                 80846 non-null   float64\n",
            " 7   Years in current job          95778 non-null   object \n",
            " 8   Home Ownership                100000 non-null  object \n",
            " 9   Purpose                       100000 non-null  object \n",
            " 10  Monthly Debt                  100000 non-null  float64\n",
            " 11  Years of Credit History       100000 non-null  float64\n",
            " 12  Months since last delinquent  46859 non-null   float64\n",
            " 13  Number of Open Accounts       100000 non-null  float64\n",
            " 14  Number of Credit Problems     100000 non-null  float64\n",
            " 15  Current Credit Balance        100000 non-null  float64\n",
            " 16  Maximum Open Credit           99998 non-null   float64\n",
            " 17  Bankruptcies                  99796 non-null   float64\n",
            " 18  Tax Liens                     99990 non-null   float64\n",
            "dtypes: float64(12), object(7)\n",
            "memory usage: 14.6+ MB\n"
          ]
        }
      ],
      "source": [
        "train.info()"
      ]
    },
    {
      "cell_type": "code",
      "execution_count": 35,
      "metadata": {
        "colab": {
          "base_uri": "https://localhost:8080/"
        },
        "id": "zfcUArM1FgO_",
        "outputId": "ae634629-d34f-4bec-c120-e0486ffd1aa0"
      },
      "outputs": [
        {
          "output_type": "execute_result",
          "data": {
            "text/plain": [
              "(100514, 19)"
            ]
          },
          "metadata": {},
          "execution_count": 35
        }
      ],
      "source": [
        "\n",
        "train.shape"
      ]
    },
    {
      "cell_type": "code",
      "execution_count": 36,
      "metadata": {
        "colab": {
          "base_uri": "https://localhost:8080/"
        },
        "id": "qdUgbNfOFijv",
        "outputId": "e05b2742-d88d-4b67-9e34-e9245b1bb58f"
      },
      "outputs": [
        {
          "output_type": "execute_result",
          "data": {
            "text/plain": [
              "(10353, 18)"
            ]
          },
          "metadata": {},
          "execution_count": 36
        }
      ],
      "source": [
        "\n",
        "test.shape"
      ]
    },
    {
      "cell_type": "code",
      "execution_count": 37,
      "metadata": {
        "colab": {
          "base_uri": "https://localhost:8080/"
        },
        "id": "FH1VO306FmUl",
        "outputId": "84336263-15fb-421e-e96c-33e1252bff6c"
      },
      "outputs": [
        {
          "output_type": "execute_result",
          "data": {
            "text/plain": [
              "Fully Paid     77361\n",
              "Charged Off    22639\n",
              "Name: Loan Status, dtype: int64"
            ]
          },
          "metadata": {},
          "execution_count": 37
        }
      ],
      "source": [
        "train['Loan Status'].value_counts()"
      ]
    },
    {
      "cell_type": "code",
      "execution_count": 38,
      "metadata": {
        "colab": {
          "base_uri": "https://localhost:8080/",
          "height": 399
        },
        "id": "VI9ESNsUFmrI",
        "outputId": "39be9423-ca96-48fb-a17c-2dbfd8dad5ad"
      },
      "outputs": [
        {
          "output_type": "execute_result",
          "data": {
            "text/plain": [
              "       Current Loan Amount  Credit Score  Annual Income   Monthly Debt  \\\n",
              "count         1.000000e+05  80846.000000   8.084600e+04  100000.000000   \n",
              "mean          1.176045e+07   1076.456089   1.378277e+06   18472.412336   \n",
              "std           3.178394e+07   1475.403791   1.081360e+06   12174.992609   \n",
              "min           1.080200e+04    585.000000   7.662700e+04       0.000000   \n",
              "25%           1.796520e+05    705.000000   8.488440e+05   10214.162500   \n",
              "50%           3.122460e+05    724.000000   1.174162e+06   16220.300000   \n",
              "75%           5.249420e+05    741.000000   1.650663e+06   24012.057500   \n",
              "max           1.000000e+08   7510.000000   1.655574e+08  435843.280000   \n",
              "\n",
              "       Years of Credit History  Months since last delinquent  \\\n",
              "count            100000.000000                  46859.000000   \n",
              "mean                 18.199141                     34.901321   \n",
              "std                   7.015324                     21.997829   \n",
              "min                   3.600000                      0.000000   \n",
              "25%                  13.500000                     16.000000   \n",
              "50%                  16.900000                     32.000000   \n",
              "75%                  21.700000                     51.000000   \n",
              "max                  70.500000                    176.000000   \n",
              "\n",
              "       Number of Open Accounts  Number of Credit Problems  \\\n",
              "count             100000.00000              100000.000000   \n",
              "mean                  11.12853                   0.168310   \n",
              "std                    5.00987                   0.482705   \n",
              "min                    0.00000                   0.000000   \n",
              "25%                    8.00000                   0.000000   \n",
              "50%                   10.00000                   0.000000   \n",
              "75%                   14.00000                   0.000000   \n",
              "max                   76.00000                  15.000000   \n",
              "\n",
              "       Current Credit Balance  Maximum Open Credit  Bankruptcies     Tax Liens  \n",
              "count            1.000000e+05         9.999800e+04  99796.000000  99990.000000  \n",
              "mean             2.946374e+05         7.607984e+05      0.117740      0.029313  \n",
              "std              3.761709e+05         8.384503e+06      0.351424      0.258182  \n",
              "min              0.000000e+00         0.000000e+00      0.000000      0.000000  \n",
              "25%              1.126700e+05         2.734380e+05      0.000000      0.000000  \n",
              "50%              2.098170e+05         4.678740e+05      0.000000      0.000000  \n",
              "75%              3.679588e+05         7.829580e+05      0.000000      0.000000  \n",
              "max              3.287897e+07         1.539738e+09      7.000000     15.000000  "
            ],
            "text/html": [
              "\n",
              "  <div id=\"df-f2a11f40-1d35-4a44-bcf2-f4d1313f28fa\">\n",
              "    <div class=\"colab-df-container\">\n",
              "      <div>\n",
              "<style scoped>\n",
              "    .dataframe tbody tr th:only-of-type {\n",
              "        vertical-align: middle;\n",
              "    }\n",
              "\n",
              "    .dataframe tbody tr th {\n",
              "        vertical-align: top;\n",
              "    }\n",
              "\n",
              "    .dataframe thead th {\n",
              "        text-align: right;\n",
              "    }\n",
              "</style>\n",
              "<table border=\"1\" class=\"dataframe\">\n",
              "  <thead>\n",
              "    <tr style=\"text-align: right;\">\n",
              "      <th></th>\n",
              "      <th>Current Loan Amount</th>\n",
              "      <th>Credit Score</th>\n",
              "      <th>Annual Income</th>\n",
              "      <th>Monthly Debt</th>\n",
              "      <th>Years of Credit History</th>\n",
              "      <th>Months since last delinquent</th>\n",
              "      <th>Number of Open Accounts</th>\n",
              "      <th>Number of Credit Problems</th>\n",
              "      <th>Current Credit Balance</th>\n",
              "      <th>Maximum Open Credit</th>\n",
              "      <th>Bankruptcies</th>\n",
              "      <th>Tax Liens</th>\n",
              "    </tr>\n",
              "  </thead>\n",
              "  <tbody>\n",
              "    <tr>\n",
              "      <th>count</th>\n",
              "      <td>1.000000e+05</td>\n",
              "      <td>80846.000000</td>\n",
              "      <td>8.084600e+04</td>\n",
              "      <td>100000.000000</td>\n",
              "      <td>100000.000000</td>\n",
              "      <td>46859.000000</td>\n",
              "      <td>100000.00000</td>\n",
              "      <td>100000.000000</td>\n",
              "      <td>1.000000e+05</td>\n",
              "      <td>9.999800e+04</td>\n",
              "      <td>99796.000000</td>\n",
              "      <td>99990.000000</td>\n",
              "    </tr>\n",
              "    <tr>\n",
              "      <th>mean</th>\n",
              "      <td>1.176045e+07</td>\n",
              "      <td>1076.456089</td>\n",
              "      <td>1.378277e+06</td>\n",
              "      <td>18472.412336</td>\n",
              "      <td>18.199141</td>\n",
              "      <td>34.901321</td>\n",
              "      <td>11.12853</td>\n",
              "      <td>0.168310</td>\n",
              "      <td>2.946374e+05</td>\n",
              "      <td>7.607984e+05</td>\n",
              "      <td>0.117740</td>\n",
              "      <td>0.029313</td>\n",
              "    </tr>\n",
              "    <tr>\n",
              "      <th>std</th>\n",
              "      <td>3.178394e+07</td>\n",
              "      <td>1475.403791</td>\n",
              "      <td>1.081360e+06</td>\n",
              "      <td>12174.992609</td>\n",
              "      <td>7.015324</td>\n",
              "      <td>21.997829</td>\n",
              "      <td>5.00987</td>\n",
              "      <td>0.482705</td>\n",
              "      <td>3.761709e+05</td>\n",
              "      <td>8.384503e+06</td>\n",
              "      <td>0.351424</td>\n",
              "      <td>0.258182</td>\n",
              "    </tr>\n",
              "    <tr>\n",
              "      <th>min</th>\n",
              "      <td>1.080200e+04</td>\n",
              "      <td>585.000000</td>\n",
              "      <td>7.662700e+04</td>\n",
              "      <td>0.000000</td>\n",
              "      <td>3.600000</td>\n",
              "      <td>0.000000</td>\n",
              "      <td>0.00000</td>\n",
              "      <td>0.000000</td>\n",
              "      <td>0.000000e+00</td>\n",
              "      <td>0.000000e+00</td>\n",
              "      <td>0.000000</td>\n",
              "      <td>0.000000</td>\n",
              "    </tr>\n",
              "    <tr>\n",
              "      <th>25%</th>\n",
              "      <td>1.796520e+05</td>\n",
              "      <td>705.000000</td>\n",
              "      <td>8.488440e+05</td>\n",
              "      <td>10214.162500</td>\n",
              "      <td>13.500000</td>\n",
              "      <td>16.000000</td>\n",
              "      <td>8.00000</td>\n",
              "      <td>0.000000</td>\n",
              "      <td>1.126700e+05</td>\n",
              "      <td>2.734380e+05</td>\n",
              "      <td>0.000000</td>\n",
              "      <td>0.000000</td>\n",
              "    </tr>\n",
              "    <tr>\n",
              "      <th>50%</th>\n",
              "      <td>3.122460e+05</td>\n",
              "      <td>724.000000</td>\n",
              "      <td>1.174162e+06</td>\n",
              "      <td>16220.300000</td>\n",
              "      <td>16.900000</td>\n",
              "      <td>32.000000</td>\n",
              "      <td>10.00000</td>\n",
              "      <td>0.000000</td>\n",
              "      <td>2.098170e+05</td>\n",
              "      <td>4.678740e+05</td>\n",
              "      <td>0.000000</td>\n",
              "      <td>0.000000</td>\n",
              "    </tr>\n",
              "    <tr>\n",
              "      <th>75%</th>\n",
              "      <td>5.249420e+05</td>\n",
              "      <td>741.000000</td>\n",
              "      <td>1.650663e+06</td>\n",
              "      <td>24012.057500</td>\n",
              "      <td>21.700000</td>\n",
              "      <td>51.000000</td>\n",
              "      <td>14.00000</td>\n",
              "      <td>0.000000</td>\n",
              "      <td>3.679588e+05</td>\n",
              "      <td>7.829580e+05</td>\n",
              "      <td>0.000000</td>\n",
              "      <td>0.000000</td>\n",
              "    </tr>\n",
              "    <tr>\n",
              "      <th>max</th>\n",
              "      <td>1.000000e+08</td>\n",
              "      <td>7510.000000</td>\n",
              "      <td>1.655574e+08</td>\n",
              "      <td>435843.280000</td>\n",
              "      <td>70.500000</td>\n",
              "      <td>176.000000</td>\n",
              "      <td>76.00000</td>\n",
              "      <td>15.000000</td>\n",
              "      <td>3.287897e+07</td>\n",
              "      <td>1.539738e+09</td>\n",
              "      <td>7.000000</td>\n",
              "      <td>15.000000</td>\n",
              "    </tr>\n",
              "  </tbody>\n",
              "</table>\n",
              "</div>\n",
              "      <button class=\"colab-df-convert\" onclick=\"convertToInteractive('df-f2a11f40-1d35-4a44-bcf2-f4d1313f28fa')\"\n",
              "              title=\"Convert this dataframe to an interactive table.\"\n",
              "              style=\"display:none;\">\n",
              "        \n",
              "  <svg xmlns=\"http://www.w3.org/2000/svg\" height=\"24px\"viewBox=\"0 0 24 24\"\n",
              "       width=\"24px\">\n",
              "    <path d=\"M0 0h24v24H0V0z\" fill=\"none\"/>\n",
              "    <path d=\"M18.56 5.44l.94 2.06.94-2.06 2.06-.94-2.06-.94-.94-2.06-.94 2.06-2.06.94zm-11 1L8.5 8.5l.94-2.06 2.06-.94-2.06-.94L8.5 2.5l-.94 2.06-2.06.94zm10 10l.94 2.06.94-2.06 2.06-.94-2.06-.94-.94-2.06-.94 2.06-2.06.94z\"/><path d=\"M17.41 7.96l-1.37-1.37c-.4-.4-.92-.59-1.43-.59-.52 0-1.04.2-1.43.59L10.3 9.45l-7.72 7.72c-.78.78-.78 2.05 0 2.83L4 21.41c.39.39.9.59 1.41.59.51 0 1.02-.2 1.41-.59l7.78-7.78 2.81-2.81c.8-.78.8-2.07 0-2.86zM5.41 20L4 18.59l7.72-7.72 1.47 1.35L5.41 20z\"/>\n",
              "  </svg>\n",
              "      </button>\n",
              "      \n",
              "  <style>\n",
              "    .colab-df-container {\n",
              "      display:flex;\n",
              "      flex-wrap:wrap;\n",
              "      gap: 12px;\n",
              "    }\n",
              "\n",
              "    .colab-df-convert {\n",
              "      background-color: #E8F0FE;\n",
              "      border: none;\n",
              "      border-radius: 50%;\n",
              "      cursor: pointer;\n",
              "      display: none;\n",
              "      fill: #1967D2;\n",
              "      height: 32px;\n",
              "      padding: 0 0 0 0;\n",
              "      width: 32px;\n",
              "    }\n",
              "\n",
              "    .colab-df-convert:hover {\n",
              "      background-color: #E2EBFA;\n",
              "      box-shadow: 0px 1px 2px rgba(60, 64, 67, 0.3), 0px 1px 3px 1px rgba(60, 64, 67, 0.15);\n",
              "      fill: #174EA6;\n",
              "    }\n",
              "\n",
              "    [theme=dark] .colab-df-convert {\n",
              "      background-color: #3B4455;\n",
              "      fill: #D2E3FC;\n",
              "    }\n",
              "\n",
              "    [theme=dark] .colab-df-convert:hover {\n",
              "      background-color: #434B5C;\n",
              "      box-shadow: 0px 1px 3px 1px rgba(0, 0, 0, 0.15);\n",
              "      filter: drop-shadow(0px 1px 2px rgba(0, 0, 0, 0.3));\n",
              "      fill: #FFFFFF;\n",
              "    }\n",
              "  </style>\n",
              "\n",
              "      <script>\n",
              "        const buttonEl =\n",
              "          document.querySelector('#df-f2a11f40-1d35-4a44-bcf2-f4d1313f28fa button.colab-df-convert');\n",
              "        buttonEl.style.display =\n",
              "          google.colab.kernel.accessAllowed ? 'block' : 'none';\n",
              "\n",
              "        async function convertToInteractive(key) {\n",
              "          const element = document.querySelector('#df-f2a11f40-1d35-4a44-bcf2-f4d1313f28fa');\n",
              "          const dataTable =\n",
              "            await google.colab.kernel.invokeFunction('convertToInteractive',\n",
              "                                                     [key], {});\n",
              "          if (!dataTable) return;\n",
              "\n",
              "          const docLinkHtml = 'Like what you see? Visit the ' +\n",
              "            '<a target=\"_blank\" href=https://colab.research.google.com/notebooks/data_table.ipynb>data table notebook</a>'\n",
              "            + ' to learn more about interactive tables.';\n",
              "          element.innerHTML = '';\n",
              "          dataTable['output_type'] = 'display_data';\n",
              "          await google.colab.output.renderOutput(dataTable, element);\n",
              "          const docLink = document.createElement('div');\n",
              "          docLink.innerHTML = docLinkHtml;\n",
              "          element.appendChild(docLink);\n",
              "        }\n",
              "      </script>\n",
              "    </div>\n",
              "  </div>\n",
              "  "
            ]
          },
          "metadata": {},
          "execution_count": 38
        }
      ],
      "source": [
        "train.describe()"
      ]
    },
    {
      "cell_type": "code",
      "execution_count": 39,
      "metadata": {
        "colab": {
          "base_uri": "https://localhost:8080/",
          "height": 1000
        },
        "id": "oAOq0DDBFtSK",
        "outputId": "fc3728e0-0d2f-4c80-e184-6c88de93f9e0"
      },
      "outputs": [
        {
          "output_type": "execute_result",
          "data": {
            "text/plain": [
              "array([[<Axes: title={'center': 'Current Loan Amount'}>,\n",
              "        <Axes: title={'center': 'Credit Score'}>,\n",
              "        <Axes: title={'center': 'Annual Income'}>],\n",
              "       [<Axes: title={'center': 'Monthly Debt'}>,\n",
              "        <Axes: title={'center': 'Years of Credit History'}>,\n",
              "        <Axes: title={'center': 'Months since last delinquent'}>],\n",
              "       [<Axes: title={'center': 'Number of Open Accounts'}>,\n",
              "        <Axes: title={'center': 'Number of Credit Problems'}>,\n",
              "        <Axes: title={'center': 'Current Credit Balance'}>],\n",
              "       [<Axes: title={'center': 'Maximum Open Credit'}>,\n",
              "        <Axes: title={'center': 'Bankruptcies'}>,\n",
              "        <Axes: title={'center': 'Tax Liens'}>]], dtype=object)"
            ]
          },
          "metadata": {},
          "execution_count": 39
        },
        {
          "output_type": "display_data",
          "data": {
            "text/plain": [
              "<Figure size 2000x2000 with 12 Axes>"
            ],
            "image/png": "[encoded data removed]"
          },
          "metadata": {}
        }
      ],
      "source": [
        "\n",
        "\n",
        "\n",
        "\n",
        "\n",
        "\n",
        "\n",
        "\n",
        "train.hist(figsize=(20,20))"
      ]
    },
    {
      "cell_type": "code",
      "execution_count": 40,
      "metadata": {
        "id": "mLB5W-XFF44g"
      },
      "outputs": [],
      "source": [
        "import seaborn as sns"
      ]
    },
    {
      "cell_type": "code",
      "execution_count": 41,
      "metadata": {
        "colab": {
          "base_uri": "https://localhost:8080/",
          "height": 944
        },
        "id": "uU1G3d-TGLW0",
        "outputId": "856205d9-5a68-432a-813a-6225d1183197"
      },
      "outputs": [
        {
          "output_type": "display_data",
          "data": {
            "text/plain": [
              "<Figure size 500x500 with 1 Axes>"
            ],
            "image/png": "[encoded data removed]"
          },
          "metadata": {}
        },
        {
          "output_type": "display_data",
          "data": {
            "text/plain": [
              "<Figure size 1600x500 with 1 Axes>"
            ],
            "image/png": "[encoded data removed]"
          },
          "metadata": {}
        }
      ],
      "source": [
        "\n",
        "sns.displot(train['Annual Income'])\n",
        "plt.show()\n",
        "train['Annual Income'].plot.box(figsize=(16,5))\n",
        "plt.show()"
      ]
    },
    {
      "cell_type": "code",
      "execution_count": 42,
      "metadata": {
        "colab": {
          "base_uri": "https://localhost:8080/",
          "height": 1000
        },
        "id": "bZipYvCCGMIr",
        "outputId": "5176b1a7-f469-4074-db9b-12e66bb1abbd"
      },
      "outputs": [
        {
          "output_type": "stream",
          "name": "stderr",
          "text": [
            "<ipython-input-42-0a2de6b307ee>:2: FutureWarning: The default value of numeric_only in DataFrame.corr is deprecated. In a future version, it will default to False. Select only valid columns or specify the value of numeric_only to silence this warning.\n",
            "  sns.heatmap(train.corr(),annot=True,cmap=\"crest\")\n"
          ]
        },
        {
          "output_type": "execute_result",
          "data": {
            "text/plain": [
              "<Axes: >"
            ]
          },
          "metadata": {},
          "execution_count": 42
        },
        {
          "output_type": "display_data",
          "data": {
            "text/plain": [
              "<Figure size 1000x1000 with 2 Axes>"
            ],
            "image/png": "[encoded data removed]"
          },
          "metadata": {}
        }
      ],
      "source": [
        "\n",
        "plt.figure(figsize=(10,10))\n",
        "sns.heatmap(train.corr(),annot=True,cmap=\"crest\")"
      ]
    },
    {
      "cell_type": "code",
      "execution_count": 43,
      "metadata": {
        "colab": {
          "base_uri": "https://localhost:8080/",
          "height": 435
        },
        "id": "IrDYUbhdGSg2",
        "outputId": "f5b7f57f-f53e-4482-8fb3-36a865211254"
      },
      "outputs": [
        {
          "output_type": "display_data",
          "data": {
            "text/plain": [
              "<Figure size 640x480 with 1 Axes>"
            ],
            "image/png": "[encoded data removed]"
          },
          "metadata": {}
        }
      ],
      "source": [
        "train['Annual Income_log']=np.log(train['Annual Income'])\n",
        "train['Annual Income_log'].hist(bins=20)\n",
        "test['Annual Income_log']=np.log(test['Annual Income'])"
      ]
    },
    {
      "cell_type": "code",
      "execution_count": 44,
      "metadata": {
        "colab": {
          "base_uri": "https://localhost:8080/",
          "height": 430
        },
        "id": "kH1TJY2rGWbR",
        "outputId": "e6af3c84-ea3b-44f5-f6fb-19a1eb43f005"
      },
      "outputs": [
        {
          "output_type": "display_data",
          "data": {
            "text/plain": [
              "<Figure size 640x480 with 1 Axes>"
            ],
            "image/png": "[encoded data removed]"
          },
          "metadata": {}
        }
      ],
      "source": [
        "\n",
        "\n",
        "train['Current Loan Amount']=np.log(train['Current Loan Amount'])\n",
        "train['Current Loan Amount'].hist(bins=20)\n",
        "test['Current Loan Amount']=np.log(test['Current Loan Amount'])"
      ]
    },
    {
      "cell_type": "code",
      "execution_count": 45,
      "metadata": {
        "colab": {
          "base_uri": "https://localhost:8080/",
          "height": 922
        },
        "id": "5CwmqGskGeDi",
        "outputId": "b8c6edeb-546e-4fe8-ba5a-997f9ac5b7e5"
      },
      "outputs": [
        {
          "output_type": "display_data",
          "data": {
            "text/plain": [
              "<Figure size 500x500 with 1 Axes>"
            ],
            "image/png": "[encoded data removed]"
          },
          "metadata": {}
        },
        {
          "output_type": "display_data",
          "data": {
            "text/plain": [
              "<Figure size 1600x500 with 1 Axes>"
            ],
            "image/png": "[encoded data removed]"
          },
          "metadata": {}
        }
      ],
      "source": [
        "sns.displot(train['Monthly Debt'])\n",
        "plt.show()\n",
        "train['Monthly Debt'].plot.box(figsize=(16,5))\n",
        "plt.show()"
      ]
    },
    {
      "cell_type": "code",
      "execution_count": 46,
      "metadata": {
        "id": "3WNGuqfqKtuf"
      },
      "outputs": [],
      "source": [
        "\n",
        "from sklearn.preprocessing import LabelEncoder\n",
        "from sklearn.preprocessing import StandardScaler\n",
        "train['Term'] = LabelEncoder().fit_transform(train['Term'])"
      ]
    },
    {
      "cell_type": "code",
      "execution_count": 47,
      "metadata": {
        "id": "a0d35165"
      },
      "outputs": [],
      "source": [
        "train['Current Loan Amount'].fillna(train['Current Loan Amount'].mode()[0], inplace=True)"
      ]
    },
    {
      "cell_type": "code",
      "execution_count": 48,
      "metadata": {
        "id": "b38e396c"
      },
      "outputs": [],
      "source": [
        "train['Credit Score'].fillna(train['Credit Score'].mode()[0], inplace=True)\n"
      ]
    },
    {
      "cell_type": "code",
      "execution_count": 49,
      "metadata": {
        "id": "58e6f0f8"
      },
      "outputs": [],
      "source": [
        "train['Annual Income'].fillna(train['Annual Income'].mode()[0], inplace=True)\n",
        "train['Monthly Debt'].fillna(train['Monthly Debt'].mode()[0], inplace=True)"
      ]
    },
    {
      "cell_type": "code",
      "execution_count": 50,
      "metadata": {
        "id": "4e32ca63"
      },
      "outputs": [],
      "source": [
        "train['Years of Credit History'].fillna(train['Years of Credit History'].mode()[0], inplace=True)\n",
        "train['Months since last delinquent'].fillna(train['Months since last delinquent'].mode()[0], inplace=True)"
      ]
    },
    {
      "cell_type": "code",
      "execution_count": 51,
      "metadata": {
        "id": "2b89c9ba"
      },
      "outputs": [],
      "source": [
        "train['Number of Open Accounts'].fillna(train['Number of Open Accounts'].mode()[0], inplace=True)\n",
        "train['Number of Credit Problems'].fillna(train['Number of Credit Problems'].mode()[0], inplace=True)\n",
        "train['Current Credit Balance'].fillna(train['Current Credit Balance'].mode()[0], inplace=True)\n",
        "train['Maximum Open Credit'].fillna(train['Maximum Open Credit'].mode()[0], inplace=True)\n",
        "train['Bankruptcies'].fillna(train['Bankruptcies'].mode()[0], inplace=True)\n",
        "train['Tax Liens'].fillna(train['Tax Liens'].mode()[0], inplace=True)\n",
        "train['Annual Income_log'].fillna(train['Annual Income_log'].mode()[0], inplace=True)"
      ]
    },
    {
      "cell_type": "code",
      "execution_count": 52,
      "metadata": {
        "id": "4b95633d"
      },
      "outputs": [],
      "source": [
        "test['Current Loan Amount'].fillna(test['Current Loan Amount'].mode()[0], inplace=True)\n",
        "test['Credit Score'].fillna(test['Credit Score'].mode()[0], inplace=True)\n",
        "test['Annual Income'].fillna(test['Annual Income'].mode()[0], inplace=True)\n",
        "test['Monthly Debt'].fillna(test['Monthly Debt'].mode()[0], inplace=True)\n",
        "test['Years of Credit History'].fillna(test['Years of Credit History'].mode()[0], inplace=True)\n",
        "test['Months since last delinquent'].fillna(test['Months since last delinquent'].mode()[0], inplace=True)\n",
        "test['Number of Open Accounts'].fillna(test['Number of Open Accounts'].mode()[0], inplace=True)\n",
        "test['Number of Credit Problems'].fillna(test['Number of Credit Problems'].mode()[0], inplace=True)\n",
        "test['Current Credit Balance'].fillna(test['Current Credit Balance'].mode()[0], inplace=True)\n",
        "test['Maximum Open Credit'].fillna(test['Maximum Open Credit'].mode()[0], inplace=True)\n",
        "test['Bankruptcies'].fillna(test['Bankruptcies'].mode()[0], inplace=True)\n",
        "test['Tax Liens'].fillna(test['Tax Liens'].mode()[0], inplace=True)\n",
        "test['Annual Income_log'].fillna(test['Annual Income_log'].mode()[0], inplace=True)"
      ]
    },
    {
      "cell_type": "code",
      "execution_count": 53,
      "metadata": {
        "id": "3vpQIjq0-bud"
      },
      "outputs": [],
      "source": [
        "\n",
        "\n",
        "label_encoder= LabelEncoder()"
      ]
    },
    {
      "cell_type": "code",
      "execution_count": 54,
      "metadata": {
        "colab": {
          "base_uri": "https://localhost:8080/",
          "height": 582
        },
        "id": "XtfIXmv5-U3w",
        "outputId": "75468e30-c12d-4249-94ba-0f5b6feb633d"
      },
      "outputs": [
        {
          "output_type": "execute_result",
          "data": {
            "text/plain": [
              "                                Loan ID                           Customer ID  \\\n",
              "0  14dd8831-6af5-400b-83ec-68e61888a048  981165ec-3274-42f5-a3b4-d104041a9ca9   \n",
              "1  4771cc26-131a-45db-b5aa-537ea4ba5342  2de017a3-2e01-49cb-a581-08169e83be29   \n",
              "2  4eed4e6a-aa2f-4c91-8651-ce984ee8fb26  5efb2b2b-bf11-4dfd-a572-3761a2694725   \n",
              "3  77598f7b-32e7-4e3b-a6e5-06ba0d98fe8a  e777faab-98ae-45af-9a86-7ce5b33b1011   \n",
              "4  d4062e70-befa-4995-8643-a0de73938182  81536ad9-5ccf-4eb8-befb-47a4d608658e   \n",
              "\n",
              "  Loan Status  Current Loan Amount  Term  Credit Score  Annual Income  \\\n",
              "0  Fully Paid            13.006755     1         709.0      1167493.0   \n",
              "1  Fully Paid            12.477351     1         747.0      1162572.0   \n",
              "2  Fully Paid            18.420681     1         741.0      2231892.0   \n",
              "3  Fully Paid            12.758998     0         721.0       806949.0   \n",
              "4  Fully Paid            12.079488     1         747.0      1162572.0   \n",
              "\n",
              "  Years in current job Home Ownership  Purpose  Monthly Debt  \\\n",
              "0              8 years  Home Mortgage        5       5214.74   \n",
              "1            10+ years  Home Mortgage        3      33295.98   \n",
              "2              8 years       Own Home        3      29200.53   \n",
              "3              3 years       Own Home        3       8741.90   \n",
              "4              5 years           Rent        3      20639.70   \n",
              "\n",
              "   Years of Credit History  Months since last delinquent  \\\n",
              "0                     17.2                          13.0   \n",
              "1                     21.1                           8.0   \n",
              "2                     14.9                          29.0   \n",
              "3                     12.0                          13.0   \n",
              "4                      6.1                          13.0   \n",
              "\n",
              "   Number of Open Accounts  Number of Credit Problems  Current Credit Balance  \\\n",
              "0                      6.0                        1.0                228190.0   \n",
              "1                     35.0                        0.0                229976.0   \n",
              "2                     18.0                        1.0                297996.0   \n",
              "3                      9.0                        0.0                256329.0   \n",
              "4                     15.0                        0.0                253460.0   \n",
              "\n",
              "   Maximum Open Credit  Bankruptcies  Tax Liens  Annual Income_log  \n",
              "0             416746.0           1.0        0.0          13.970369  \n",
              "1             850784.0           0.0        0.0          13.966145  \n",
              "2             750090.0           0.0        0.0          14.618360  \n",
              "3             386958.0           0.0        0.0          13.601016  \n",
              "4             427174.0           0.0        0.0          13.966145  "
            ],
            "text/html": [
              "\n",
              "  <div id=\"df-77c82bf4-8f29-4ad4-ba2e-7a7a1925bc85\">\n",
              "    <div class=\"colab-df-container\">\n",
              "      <div>\n",
              "<style scoped>\n",
              "    .dataframe tbody tr th:only-of-type {\n",
              "        vertical-align: middle;\n",
              "    }\n",
              "\n",
              "    .dataframe tbody tr th {\n",
              "        vertical-align: top;\n",
              "    }\n",
              "\n",
              "    .dataframe thead th {\n",
              "        text-align: right;\n",
              "    }\n",
              "</style>\n",
              "<table border=\"1\" class=\"dataframe\">\n",
              "  <thead>\n",
              "    <tr style=\"text-align: right;\">\n",
              "      <th></th>\n",
              "      <th>Loan ID</th>\n",
              "      <th>Customer ID</th>\n",
              "      <th>Loan Status</th>\n",
              "      <th>Current Loan Amount</th>\n",
              "      <th>Term</th>\n",
              "      <th>Credit Score</th>\n",
              "      <th>Annual Income</th>\n",
              "      <th>Years in current job</th>\n",
              "      <th>Home Ownership</th>\n",
              "      <th>Purpose</th>\n",
              "      <th>Monthly Debt</th>\n",
              "      <th>Years of Credit History</th>\n",
              "      <th>Months since last delinquent</th>\n",
              "      <th>Number of Open Accounts</th>\n",
              "      <th>Number of Credit Problems</th>\n",
              "      <th>Current Credit Balance</th>\n",
              "      <th>Maximum Open Credit</th>\n",
              "      <th>Bankruptcies</th>\n",
              "      <th>Tax Liens</th>\n",
              "      <th>Annual Income_log</th>\n",
              "    </tr>\n",
              "  </thead>\n",
              "  <tbody>\n",
              "    <tr>\n",
              "      <th>0</th>\n",
              "      <td>14dd8831-6af5-400b-83ec-68e61888a048</td>\n",
              "      <td>981165ec-3274-42f5-a3b4-d104041a9ca9</td>\n",
              "      <td>Fully Paid</td>\n",
              "      <td>13.006755</td>\n",
              "      <td>1</td>\n",
              "      <td>709.0</td>\n",
              "      <td>1167493.0</td>\n",
              "      <td>8 years</td>\n",
              "      <td>Home Mortgage</td>\n",
              "      <td>5</td>\n",
              "      <td>5214.74</td>\n",
              "      <td>17.2</td>\n",
              "      <td>13.0</td>\n",
              "      <td>6.0</td>\n",
              "      <td>1.0</td>\n",
              "      <td>228190.0</td>\n",
              "      <td>416746.0</td>\n",
              "      <td>1.0</td>\n",
              "      <td>0.0</td>\n",
              "      <td>13.970369</td>\n",
              "    </tr>\n",
              "    <tr>\n",
              "      <th>1</th>\n",
              "      <td>4771cc26-131a-45db-b5aa-537ea4ba5342</td>\n",
              "      <td>2de017a3-2e01-49cb-a581-08169e83be29</td>\n",
              "      <td>Fully Paid</td>\n",
              "      <td>12.477351</td>\n",
              "      <td>1</td>\n",
              "      <td>747.0</td>\n",
              "      <td>1162572.0</td>\n",
              "      <td>10+ years</td>\n",
              "      <td>Home Mortgage</td>\n",
              "      <td>3</td>\n",
              "      <td>33295.98</td>\n",
              "      <td>21.1</td>\n",
              "      <td>8.0</td>\n",
              "      <td>35.0</td>\n",
              "      <td>0.0</td>\n",
              "      <td>229976.0</td>\n",
              "      <td>850784.0</td>\n",
              "      <td>0.0</td>\n",
              "      <td>0.0</td>\n",
              "      <td>13.966145</td>\n",
              "    </tr>\n",
              "    <tr>\n",
              "      <th>2</th>\n",
              "      <td>4eed4e6a-aa2f-4c91-8651-ce984ee8fb26</td>\n",
              "      <td>5efb2b2b-bf11-4dfd-a572-3761a2694725</td>\n",
              "      <td>Fully Paid</td>\n",
              "      <td>18.420681</td>\n",
              "      <td>1</td>\n",
              "      <td>741.0</td>\n",
              "      <td>2231892.0</td>\n",
              "      <td>8 years</td>\n",
              "      <td>Own Home</td>\n",
              "      <td>3</td>\n",
              "      <td>29200.53</td>\n",
              "      <td>14.9</td>\n",
              "      <td>29.0</td>\n",
              "      <td>18.0</td>\n",
              "      <td>1.0</td>\n",
              "      <td>297996.0</td>\n",
              "      <td>750090.0</td>\n",
              "      <td>0.0</td>\n",
              "      <td>0.0</td>\n",
              "      <td>14.618360</td>\n",
              "    </tr>\n",
              "    <tr>\n",
              "      <th>3</th>\n",
              "      <td>77598f7b-32e7-4e3b-a6e5-06ba0d98fe8a</td>\n",
              "      <td>e777faab-98ae-45af-9a86-7ce5b33b1011</td>\n",
              "      <td>Fully Paid</td>\n",
              "      <td>12.758998</td>\n",
              "      <td>0</td>\n",
              "      <td>721.0</td>\n",
              "      <td>806949.0</td>\n",
              "      <td>3 years</td>\n",
              "      <td>Own Home</td>\n",
              "      <td>3</td>\n",
              "      <td>8741.90</td>\n",
              "      <td>12.0</td>\n",
              "      <td>13.0</td>\n",
              "      <td>9.0</td>\n",
              "      <td>0.0</td>\n",
              "      <td>256329.0</td>\n",
              "      <td>386958.0</td>\n",
              "      <td>0.0</td>\n",
              "      <td>0.0</td>\n",
              "      <td>13.601016</td>\n",
              "    </tr>\n",
              "    <tr>\n",
              "      <th>4</th>\n",
              "      <td>d4062e70-befa-4995-8643-a0de73938182</td>\n",
              "      <td>81536ad9-5ccf-4eb8-befb-47a4d608658e</td>\n",
              "      <td>Fully Paid</td>\n",
              "      <td>12.079488</td>\n",
              "      <td>1</td>\n",
              "      <td>747.0</td>\n",
              "      <td>1162572.0</td>\n",
              "      <td>5 years</td>\n",
              "      <td>Rent</td>\n",
              "      <td>3</td>\n",
              "      <td>20639.70</td>\n",
              "      <td>6.1</td>\n",
              "      <td>13.0</td>\n",
              "      <td>15.0</td>\n",
              "      <td>0.0</td>\n",
              "      <td>253460.0</td>\n",
              "      <td>427174.0</td>\n",
              "      <td>0.0</td>\n",
              "      <td>0.0</td>\n",
              "      <td>13.966145</td>\n",
              "    </tr>\n",
              "  </tbody>\n",
              "</table>\n",
              "</div>\n",
              "      <button class=\"colab-df-convert\" onclick=\"convertToInteractive('df-77c82bf4-8f29-4ad4-ba2e-7a7a1925bc85')\"\n",
              "              title=\"Convert this dataframe to an interactive table.\"\n",
              "              style=\"display:none;\">\n",
              "        \n",
              "  <svg xmlns=\"http://www.w3.org/2000/svg\" height=\"24px\"viewBox=\"0 0 24 24\"\n",
              "       width=\"24px\">\n",
              "    <path d=\"M0 0h24v24H0V0z\" fill=\"none\"/>\n",
              "    <path d=\"M18.56 5.44l.94 2.06.94-2.06 2.06-.94-2.06-.94-.94-2.06-.94 2.06-2.06.94zm-11 1L8.5 8.5l.94-2.06 2.06-.94-2.06-.94L8.5 2.5l-.94 2.06-2.06.94zm10 10l.94 2.06.94-2.06 2.06-.94-2.06-.94-.94-2.06-.94 2.06-2.06.94z\"/><path d=\"M17.41 7.96l-1.37-1.37c-.4-.4-.92-.59-1.43-.59-.52 0-1.04.2-1.43.59L10.3 9.45l-7.72 7.72c-.78.78-.78 2.05 0 2.83L4 21.41c.39.39.9.59 1.41.59.51 0 1.02-.2 1.41-.59l7.78-7.78 2.81-2.81c.8-.78.8-2.07 0-2.86zM5.41 20L4 18.59l7.72-7.72 1.47 1.35L5.41 20z\"/>\n",
              "  </svg>\n",
              "      </button>\n",
              "      \n",
              "  <style>\n",
              "    .colab-df-container {\n",
              "      display:flex;\n",
              "      flex-wrap:wrap;\n",
              "      gap: 12px;\n",
              "    }\n",
              "\n",
              "    .colab-df-convert {\n",
              "      background-color: #E8F0FE;\n",
              "      border: none;\n",
              "      border-radius: 50%;\n",
              "      cursor: pointer;\n",
              "      display: none;\n",
              "      fill: #1967D2;\n",
              "      height: 32px;\n",
              "      padding: 0 0 0 0;\n",
              "      width: 32px;\n",
              "    }\n",
              "\n",
              "    .colab-df-convert:hover {\n",
              "      background-color: #E2EBFA;\n",
              "      box-shadow: 0px 1px 2px rgba(60, 64, 67, 0.3), 0px 1px 3px 1px rgba(60, 64, 67, 0.15);\n",
              "      fill: #174EA6;\n",
              "    }\n",
              "\n",
              "    [theme=dark] .colab-df-convert {\n",
              "      background-color: #3B4455;\n",
              "      fill: #D2E3FC;\n",
              "    }\n",
              "\n",
              "    [theme=dark] .colab-df-convert:hover {\n",
              "      background-color: #434B5C;\n",
              "      box-shadow: 0px 1px 3px 1px rgba(0, 0, 0, 0.15);\n",
              "      filter: drop-shadow(0px 1px 2px rgba(0, 0, 0, 0.3));\n",
              "      fill: #FFFFFF;\n",
              "    }\n",
              "  </style>\n",
              "\n",
              "      <script>\n",
              "        const buttonEl =\n",
              "          document.querySelector('#df-77c82bf4-8f29-4ad4-ba2e-7a7a1925bc85 button.colab-df-convert');\n",
              "        buttonEl.style.display =\n",
              "          google.colab.kernel.accessAllowed ? 'block' : 'none';\n",
              "\n",
              "        async function convertToInteractive(key) {\n",
              "          const element = document.querySelector('#df-77c82bf4-8f29-4ad4-ba2e-7a7a1925bc85');\n",
              "          const dataTable =\n",
              "            await google.colab.kernel.invokeFunction('convertToInteractive',\n",
              "                                                     [key], {});\n",
              "          if (!dataTable) return;\n",
              "\n",
              "          const docLinkHtml = 'Like what you see? Visit the ' +\n",
              "            '<a target=\"_blank\" href=https://colab.research.google.com/notebooks/data_table.ipynb>data table notebook</a>'\n",
              "            + ' to learn more about interactive tables.';\n",
              "          element.innerHTML = '';\n",
              "          dataTable['output_type'] = 'display_data';\n",
              "          await google.colab.output.renderOutput(dataTable, element);\n",
              "          const docLink = document.createElement('div');\n",
              "          docLink.innerHTML = docLinkHtml;\n",
              "          element.appendChild(docLink);\n",
              "        }\n",
              "      </script>\n",
              "    </div>\n",
              "  </div>\n",
              "  "
            ]
          },
          "metadata": {},
          "execution_count": 54
        }
      ],
      "source": [
        "train['Purpose']= label_encoder.fit_transform(train['Purpose'])\n",
        "train.head()"
      ]
    },
    {
      "cell_type": "code",
      "execution_count": 55,
      "metadata": {
        "id": "v2yC7ameJR4g"
      },
      "outputs": [],
      "source": [
        "train['Home Ownership']= label_encoder.fit_transform(train['Home Ownership'])\n",
        "train['Term']= label_encoder.fit_transform(train['Term'])\n",
        "train['Loan Status']= label_encoder.fit_transform(train['Loan Status'])"
      ]
    },
    {
      "cell_type": "code",
      "execution_count": 56,
      "metadata": {
        "colab": {
          "base_uri": "https://localhost:8080/",
          "height": 539
        },
        "id": "d9730372",
        "outputId": "8d7e8620-a4ee-4e09-a562-e6e1b41bb2f2"
      },
      "outputs": [
        {
          "output_type": "execute_result",
          "data": {
            "text/plain": [
              "        Loan ID  Customer ID  Loan Status  Current Loan Amount   Term  \\\n",
              "0         False        False        False                False  False   \n",
              "1         False        False        False                False  False   \n",
              "2         False        False        False                False  False   \n",
              "3         False        False        False                False  False   \n",
              "4         False        False        False                False  False   \n",
              "...         ...          ...          ...                  ...    ...   \n",
              "100509     True         True        False                False  False   \n",
              "100510     True         True        False                False  False   \n",
              "100511     True         True        False                False  False   \n",
              "100512     True         True        False                False  False   \n",
              "100513     True         True        False                False  False   \n",
              "\n",
              "        Credit Score  Annual Income  Years in current job  Home Ownership  \\\n",
              "0              False          False                 False           False   \n",
              "1              False          False                 False           False   \n",
              "2              False          False                 False           False   \n",
              "3              False          False                 False           False   \n",
              "4              False          False                 False           False   \n",
              "...              ...            ...                   ...             ...   \n",
              "100509         False          False                  True           False   \n",
              "100510         False          False                  True           False   \n",
              "100511         False          False                  True           False   \n",
              "100512         False          False                  True           False   \n",
              "100513         False          False                  True           False   \n",
              "\n",
              "        Purpose  Monthly Debt  Years of Credit History  \\\n",
              "0         False         False                    False   \n",
              "1         False         False                    False   \n",
              "2         False         False                    False   \n",
              "3         False         False                    False   \n",
              "4         False         False                    False   \n",
              "...         ...           ...                      ...   \n",
              "100509    False         False                    False   \n",
              "100510    False         False                    False   \n",
              "100511    False         False                    False   \n",
              "100512    False         False                    False   \n",
              "100513    False         False                    False   \n",
              "\n",
              "        Months since last delinquent  Number of Open Accounts  \\\n",
              "0                              False                    False   \n",
              "1                              False                    False   \n",
              "2                              False                    False   \n",
              "3                              False                    False   \n",
              "4                              False                    False   \n",
              "...                              ...                      ...   \n",
              "100509                         False                    False   \n",
              "100510                         False                    False   \n",
              "100511                         False                    False   \n",
              "100512                         False                    False   \n",
              "100513                         False                    False   \n",
              "\n",
              "        Number of Credit Problems  Current Credit Balance  \\\n",
              "0                           False                   False   \n",
              "1                           False                   False   \n",
              "2                           False                   False   \n",
              "3                           False                   False   \n",
              "4                           False                   False   \n",
              "...                           ...                     ...   \n",
              "100509                      False                   False   \n",
              "100510                      False                   False   \n",
              "100511                      False                   False   \n",
              "100512                      False                   False   \n",
              "100513                      False                   False   \n",
              "\n",
              "        Maximum Open Credit  Bankruptcies  Tax Liens  Annual Income_log  \n",
              "0                     False         False      False              False  \n",
              "1                     False         False      False              False  \n",
              "2                     False         False      False              False  \n",
              "3                     False         False      False              False  \n",
              "4                     False         False      False              False  \n",
              "...                     ...           ...        ...                ...  \n",
              "100509                False         False      False              False  \n",
              "100510                False         False      False              False  \n",
              "100511                False         False      False              False  \n",
              "100512                False         False      False              False  \n",
              "100513                False         False      False              False  \n",
              "\n",
              "[100514 rows x 20 columns]"
            ],
            "text/html": [
              "\n",
              "  <div id=\"df-594323f0-81e5-428b-8ff7-a167a85a3a6d\">\n",
              "    <div class=\"colab-df-container\">\n",
              "      <div>\n",
              "<style scoped>\n",
              "    .dataframe tbody tr th:only-of-type {\n",
              "        vertical-align: middle;\n",
              "    }\n",
              "\n",
              "    .dataframe tbody tr th {\n",
              "        vertical-align: top;\n",
              "    }\n",
              "\n",
              "    .dataframe thead th {\n",
              "        text-align: right;\n",
              "    }\n",
              "</style>\n",
              "<table border=\"1\" class=\"dataframe\">\n",
              "  <thead>\n",
              "    <tr style=\"text-align: right;\">\n",
              "      <th></th>\n",
              "      <th>Loan ID</th>\n",
              "      <th>Customer ID</th>\n",
              "      <th>Loan Status</th>\n",
              "      <th>Current Loan Amount</th>\n",
              "      <th>Term</th>\n",
              "      <th>Credit Score</th>\n",
              "      <th>Annual Income</th>\n",
              "      <th>Years in current job</th>\n",
              "      <th>Home Ownership</th>\n",
              "      <th>Purpose</th>\n",
              "      <th>Monthly Debt</th>\n",
              "      <th>Years of Credit History</th>\n",
              "      <th>Months since last delinquent</th>\n",
              "      <th>Number of Open Accounts</th>\n",
              "      <th>Number of Credit Problems</th>\n",
              "      <th>Current Credit Balance</th>\n",
              "      <th>Maximum Open Credit</th>\n",
              "      <th>Bankruptcies</th>\n",
              "      <th>Tax Liens</th>\n",
              "      <th>Annual Income_log</th>\n",
              "    </tr>\n",
              "  </thead>\n",
              "  <tbody>\n",
              "    <tr>\n",
              "      <th>0</th>\n",
              "      <td>False</td>\n",
              "      <td>False</td>\n",
              "      <td>False</td>\n",
              "      <td>False</td>\n",
              "      <td>False</td>\n",
              "      <td>False</td>\n",
              "      <td>False</td>\n",
              "      <td>False</td>\n",
              "      <td>False</td>\n",
              "      <td>False</td>\n",
              "      <td>False</td>\n",
              "      <td>False</td>\n",
              "      <td>False</td>\n",
              "      <td>False</td>\n",
              "      <td>False</td>\n",
              "      <td>False</td>\n",
              "      <td>False</td>\n",
              "      <td>False</td>\n",
              "      <td>False</td>\n",
              "      <td>False</td>\n",
              "    </tr>\n",
              "    <tr>\n",
              "      <th>1</th>\n",
              "      <td>False</td>\n",
              "      <td>False</td>\n",
              "      <td>False</td>\n",
              "      <td>False</td>\n",
              "      <td>False</td>\n",
              "      <td>False</td>\n",
              "      <td>False</td>\n",
              "      <td>False</td>\n",
              "      <td>False</td>\n",
              "      <td>False</td>\n",
              "      <td>False</td>\n",
              "      <td>False</td>\n",
              "      <td>False</td>\n",
              "      <td>False</td>\n",
              "      <td>False</td>\n",
              "      <td>False</td>\n",
              "      <td>False</td>\n",
              "      <td>False</td>\n",
              "      <td>False</td>\n",
              "      <td>False</td>\n",
              "    </tr>\n",
              "    <tr>\n",
              "      <th>2</th>\n",
              "      <td>False</td>\n",
              "      <td>False</td>\n",
              "      <td>False</td>\n",
              "      <td>False</td>\n",
              "      <td>False</td>\n",
              "      <td>False</td>\n",
              "      <td>False</td>\n",
              "      <td>False</td>\n",
              "      <td>False</td>\n",
              "      <td>False</td>\n",
              "      <td>False</td>\n",
              "      <td>False</td>\n",
              "      <td>False</td>\n",
              "      <td>False</td>\n",
              "      <td>False</td>\n",
              "      <td>False</td>\n",
              "      <td>False</td>\n",
              "      <td>False</td>\n",
              "      <td>False</td>\n",
              "      <td>False</td>\n",
              "    </tr>\n",
              "    <tr>\n",
              "      <th>3</th>\n",
              "      <td>False</td>\n",
              "      <td>False</td>\n",
              "      <td>False</td>\n",
              "      <td>False</td>\n",
              "      <td>False</td>\n",
              "      <td>False</td>\n",
              "      <td>False</td>\n",
              "      <td>False</td>\n",
              "      <td>False</td>\n",
              "      <td>False</td>\n",
              "      <td>False</td>\n",
              "      <td>False</td>\n",
              "      <td>False</td>\n",
              "      <td>False</td>\n",
              "      <td>False</td>\n",
              "      <td>False</td>\n",
              "      <td>False</td>\n",
              "      <td>False</td>\n",
              "      <td>False</td>\n",
              "      <td>False</td>\n",
              "    </tr>\n",
              "    <tr>\n",
              "      <th>4</th>\n",
              "      <td>False</td>\n",
              "      <td>False</td>\n",
              "      <td>False</td>\n",
              "      <td>False</td>\n",
              "      <td>False</td>\n",
              "      <td>False</td>\n",
              "      <td>False</td>\n",
              "      <td>False</td>\n",
              "      <td>False</td>\n",
              "      <td>False</td>\n",
              "      <td>False</td>\n",
              "      <td>False</td>\n",
              "      <td>False</td>\n",
              "      <td>False</td>\n",
              "      <td>False</td>\n",
              "      <td>False</td>\n",
              "      <td>False</td>\n",
              "      <td>False</td>\n",
              "      <td>False</td>\n",
              "      <td>False</td>\n",
              "    </tr>\n",
              "    <tr>\n",
              "      <th>...</th>\n",
              "      <td>...</td>\n",
              "      <td>...</td>\n",
              "      <td>...</td>\n",
              "      <td>...</td>\n",
              "      <td>...</td>\n",
              "      <td>...</td>\n",
              "      <td>...</td>\n",
              "      <td>...</td>\n",
              "      <td>...</td>\n",
              "      <td>...</td>\n",
              "      <td>...</td>\n",
              "      <td>...</td>\n",
              "      <td>...</td>\n",
              "      <td>...</td>\n",
              "      <td>...</td>\n",
              "      <td>...</td>\n",
              "      <td>...</td>\n",
              "      <td>...</td>\n",
              "      <td>...</td>\n",
              "      <td>...</td>\n",
              "    </tr>\n",
              "    <tr>\n",
              "      <th>100509</th>\n",
              "      <td>True</td>\n",
              "      <td>True</td>\n",
              "      <td>False</td>\n",
              "      <td>False</td>\n",
              "      <td>False</td>\n",
              "      <td>False</td>\n",
              "      <td>False</td>\n",
              "      <td>True</td>\n",
              "      <td>False</td>\n",
              "      <td>False</td>\n",
              "      <td>False</td>\n",
              "      <td>False</td>\n",
              "      <td>False</td>\n",
              "      <td>False</td>\n",
              "      <td>False</td>\n",
              "      <td>False</td>\n",
              "      <td>False</td>\n",
              "      <td>False</td>\n",
              "      <td>False</td>\n",
              "      <td>False</td>\n",
              "    </tr>\n",
              "    <tr>\n",
              "      <th>100510</th>\n",
              "      <td>True</td>\n",
              "      <td>True</td>\n",
              "      <td>False</td>\n",
              "      <td>False</td>\n",
              "      <td>False</td>\n",
              "      <td>False</td>\n",
              "      <td>False</td>\n",
              "      <td>True</td>\n",
              "      <td>False</td>\n",
              "      <td>False</td>\n",
              "      <td>False</td>\n",
              "      <td>False</td>\n",
              "      <td>False</td>\n",
              "      <td>False</td>\n",
              "      <td>False</td>\n",
              "      <td>False</td>\n",
              "      <td>False</td>\n",
              "      <td>False</td>\n",
              "      <td>False</td>\n",
              "      <td>False</td>\n",
              "    </tr>\n",
              "    <tr>\n",
              "      <th>100511</th>\n",
              "      <td>True</td>\n",
              "      <td>True</td>\n",
              "      <td>False</td>\n",
              "      <td>False</td>\n",
              "      <td>False</td>\n",
              "      <td>False</td>\n",
              "      <td>False</td>\n",
              "      <td>True</td>\n",
              "      <td>False</td>\n",
              "      <td>False</td>\n",
              "      <td>False</td>\n",
              "      <td>False</td>\n",
              "      <td>False</td>\n",
              "      <td>False</td>\n",
              "      <td>False</td>\n",
              "      <td>False</td>\n",
              "      <td>False</td>\n",
              "      <td>False</td>\n",
              "      <td>False</td>\n",
              "      <td>False</td>\n",
              "    </tr>\n",
              "    <tr>\n",
              "      <th>100512</th>\n",
              "      <td>True</td>\n",
              "      <td>True</td>\n",
              "      <td>False</td>\n",
              "      <td>False</td>\n",
              "      <td>False</td>\n",
              "      <td>False</td>\n",
              "      <td>False</td>\n",
              "      <td>True</td>\n",
              "      <td>False</td>\n",
              "      <td>False</td>\n",
              "      <td>False</td>\n",
              "      <td>False</td>\n",
              "      <td>False</td>\n",
              "      <td>False</td>\n",
              "      <td>False</td>\n",
              "      <td>False</td>\n",
              "      <td>False</td>\n",
              "      <td>False</td>\n",
              "      <td>False</td>\n",
              "      <td>False</td>\n",
              "    </tr>\n",
              "    <tr>\n",
              "      <th>100513</th>\n",
              "      <td>True</td>\n",
              "      <td>True</td>\n",
              "      <td>False</td>\n",
              "      <td>False</td>\n",
              "      <td>False</td>\n",
              "      <td>False</td>\n",
              "      <td>False</td>\n",
              "      <td>True</td>\n",
              "      <td>False</td>\n",
              "      <td>False</td>\n",
              "      <td>False</td>\n",
              "      <td>False</td>\n",
              "      <td>False</td>\n",
              "      <td>False</td>\n",
              "      <td>False</td>\n",
              "      <td>False</td>\n",
              "      <td>False</td>\n",
              "      <td>False</td>\n",
              "      <td>False</td>\n",
              "      <td>False</td>\n",
              "    </tr>\n",
              "  </tbody>\n",
              "</table>\n",
              "<p>100514 rows × 20 columns</p>\n",
              "</div>\n",
              "      <button class=\"colab-df-convert\" onclick=\"convertToInteractive('df-594323f0-81e5-428b-8ff7-a167a85a3a6d')\"\n",
              "              title=\"Convert this dataframe to an interactive table.\"\n",
              "              style=\"display:none;\">\n",
              "        \n",
              "  <svg xmlns=\"http://www.w3.org/2000/svg\" height=\"24px\"viewBox=\"0 0 24 24\"\n",
              "       width=\"24px\">\n",
              "    <path d=\"M0 0h24v24H0V0z\" fill=\"none\"/>\n",
              "    <path d=\"M18.56 5.44l.94 2.06.94-2.06 2.06-.94-2.06-.94-.94-2.06-.94 2.06-2.06.94zm-11 1L8.5 8.5l.94-2.06 2.06-.94-2.06-.94L8.5 2.5l-.94 2.06-2.06.94zm10 10l.94 2.06.94-2.06 2.06-.94-2.06-.94-.94-2.06-.94 2.06-2.06.94z\"/><path d=\"M17.41 7.96l-1.37-1.37c-.4-.4-.92-.59-1.43-.59-.52 0-1.04.2-1.43.59L10.3 9.45l-7.72 7.72c-.78.78-.78 2.05 0 2.83L4 21.41c.39.39.9.59 1.41.59.51 0 1.02-.2 1.41-.59l7.78-7.78 2.81-2.81c.8-.78.8-2.07 0-2.86zM5.41 20L4 18.59l7.72-7.72 1.47 1.35L5.41 20z\"/>\n",
              "  </svg>\n",
              "      </button>\n",
              "      \n",
              "  <style>\n",
              "    .colab-df-container {\n",
              "      display:flex;\n",
              "      flex-wrap:wrap;\n",
              "      gap: 12px;\n",
              "    }\n",
              "\n",
              "    .colab-df-convert {\n",
              "      background-color: #E8F0FE;\n",
              "      border: none;\n",
              "      border-radius: 50%;\n",
              "      cursor: pointer;\n",
              "      display: none;\n",
              "      fill: #1967D2;\n",
              "      height: 32px;\n",
              "      padding: 0 0 0 0;\n",
              "      width: 32px;\n",
              "    }\n",
              "\n",
              "    .colab-df-convert:hover {\n",
              "      background-color: #E2EBFA;\n",
              "      box-shadow: 0px 1px 2px rgba(60, 64, 67, 0.3), 0px 1px 3px 1px rgba(60, 64, 67, 0.15);\n",
              "      fill: #174EA6;\n",
              "    }\n",
              "\n",
              "    [theme=dark] .colab-df-convert {\n",
              "      background-color: #3B4455;\n",
              "      fill: #D2E3FC;\n",
              "    }\n",
              "\n",
              "    [theme=dark] .colab-df-convert:hover {\n",
              "      background-color: #434B5C;\n",
              "      box-shadow: 0px 1px 3px 1px rgba(0, 0, 0, 0.15);\n",
              "      filter: drop-shadow(0px 1px 2px rgba(0, 0, 0, 0.3));\n",
              "      fill: #FFFFFF;\n",
              "    }\n",
              "  </style>\n",
              "\n",
              "      <script>\n",
              "        const buttonEl =\n",
              "          document.querySelector('#df-594323f0-81e5-428b-8ff7-a167a85a3a6d button.colab-df-convert');\n",
              "        buttonEl.style.display =\n",
              "          google.colab.kernel.accessAllowed ? 'block' : 'none';\n",
              "\n",
              "        async function convertToInteractive(key) {\n",
              "          const element = document.querySelector('#df-594323f0-81e5-428b-8ff7-a167a85a3a6d');\n",
              "          const dataTable =\n",
              "            await google.colab.kernel.invokeFunction('convertToInteractive',\n",
              "                                                     [key], {});\n",
              "          if (!dataTable) return;\n",
              "\n",
              "          const docLinkHtml = 'Like what you see? Visit the ' +\n",
              "            '<a target=\"_blank\" href=https://colab.research.google.com/notebooks/data_table.ipynb>data table notebook</a>'\n",
              "            + ' to learn more about interactive tables.';\n",
              "          element.innerHTML = '';\n",
              "          dataTable['output_type'] = 'display_data';\n",
              "          await google.colab.output.renderOutput(dataTable, element);\n",
              "          const docLink = document.createElement('div');\n",
              "          docLink.innerHTML = docLinkHtml;\n",
              "          element.appendChild(docLink);\n",
              "        }\n",
              "      </script>\n",
              "    </div>\n",
              "  </div>\n",
              "  "
            ]
          },
          "metadata": {},
          "execution_count": 56
        }
      ],
      "source": [
        "\n",
        "train.isnull()"
      ]
    },
    {
      "cell_type": "code",
      "execution_count": 57,
      "metadata": {
        "id": "a70a3ea8"
      },
      "outputs": [],
      "source": [
        "#there is some Null Value in some last rows"
      ]
    },
    {
      "cell_type": "code",
      "execution_count": 58,
      "metadata": {
        "colab": {
          "base_uri": "https://localhost:8080/",
          "height": 539
        },
        "id": "ce149a95",
        "outputId": "cad87699-13cd-40bc-b3ae-a6b1c2526adf"
      },
      "outputs": [
        {
          "output_type": "execute_result",
          "data": {
            "text/plain": [
              "       Loan ID  Customer ID  Current Loan Amount   Term  Credit Score  \\\n",
              "0        False        False                False  False         False   \n",
              "1        False        False                False  False         False   \n",
              "2        False        False                False  False         False   \n",
              "3        False        False                False  False         False   \n",
              "4        False        False                False  False         False   \n",
              "...        ...          ...                  ...    ...           ...   \n",
              "10348     True         True                False   True         False   \n",
              "10349     True         True                False   True         False   \n",
              "10350     True         True                False   True         False   \n",
              "10351     True         True                False   True         False   \n",
              "10352     True         True                False   True         False   \n",
              "\n",
              "       Annual Income  Years in current job  Home Ownership  Purpose  \\\n",
              "0              False                 False           False    False   \n",
              "1              False                 False           False    False   \n",
              "2              False                 False           False    False   \n",
              "3              False                 False           False    False   \n",
              "4              False                 False           False    False   \n",
              "...              ...                   ...             ...      ...   \n",
              "10348          False                  True            True     True   \n",
              "10349          False                  True            True     True   \n",
              "10350          False                  True            True     True   \n",
              "10351          False                  True            True     True   \n",
              "10352          False                  True            True     True   \n",
              "\n",
              "       Monthly Debt  Years of Credit History  Months since last delinquent  \\\n",
              "0             False                    False                         False   \n",
              "1             False                    False                         False   \n",
              "2             False                    False                         False   \n",
              "3             False                    False                         False   \n",
              "4             False                    False                         False   \n",
              "...             ...                      ...                           ...   \n",
              "10348         False                    False                         False   \n",
              "10349         False                    False                         False   \n",
              "10350         False                    False                         False   \n",
              "10351         False                    False                         False   \n",
              "10352         False                    False                         False   \n",
              "\n",
              "       Number of Open Accounts  Number of Credit Problems  \\\n",
              "0                        False                      False   \n",
              "1                        False                      False   \n",
              "2                        False                      False   \n",
              "3                        False                      False   \n",
              "4                        False                      False   \n",
              "...                        ...                        ...   \n",
              "10348                    False                      False   \n",
              "10349                    False                      False   \n",
              "10350                    False                      False   \n",
              "10351                    False                      False   \n",
              "10352                    False                      False   \n",
              "\n",
              "       Current Credit Balance  Maximum Open Credit  Bankruptcies  Tax Liens  \\\n",
              "0                       False                False         False      False   \n",
              "1                       False                False         False      False   \n",
              "2                       False                False         False      False   \n",
              "3                       False                False         False      False   \n",
              "4                       False                False         False      False   \n",
              "...                       ...                  ...           ...        ...   \n",
              "10348                   False                False         False      False   \n",
              "10349                   False                False         False      False   \n",
              "10350                   False                False         False      False   \n",
              "10351                   False                False         False      False   \n",
              "10352                   False                False         False      False   \n",
              "\n",
              "       Annual Income_log  \n",
              "0                  False  \n",
              "1                  False  \n",
              "2                  False  \n",
              "3                  False  \n",
              "4                  False  \n",
              "...                  ...  \n",
              "10348              False  \n",
              "10349              False  \n",
              "10350              False  \n",
              "10351              False  \n",
              "10352              False  \n",
              "\n",
              "[10353 rows x 19 columns]"
            ],
            "text/html": [
              "\n",
              "  <div id=\"df-8d2e2ca5-7e35-45fd-89d6-9cb76611d959\">\n",
              "    <div class=\"colab-df-container\">\n",
              "      <div>\n",
              "<style scoped>\n",
              "    .dataframe tbody tr th:only-of-type {\n",
              "        vertical-align: middle;\n",
              "    }\n",
              "\n",
              "    .dataframe tbody tr th {\n",
              "        vertical-align: top;\n",
              "    }\n",
              "\n",
              "    .dataframe thead th {\n",
              "        text-align: right;\n",
              "    }\n",
              "</style>\n",
              "<table border=\"1\" class=\"dataframe\">\n",
              "  <thead>\n",
              "    <tr style=\"text-align: right;\">\n",
              "      <th></th>\n",
              "      <th>Loan ID</th>\n",
              "      <th>Customer ID</th>\n",
              "      <th>Current Loan Amount</th>\n",
              "      <th>Term</th>\n",
              "      <th>Credit Score</th>\n",
              "      <th>Annual Income</th>\n",
              "      <th>Years in current job</th>\n",
              "      <th>Home Ownership</th>\n",
              "      <th>Purpose</th>\n",
              "      <th>Monthly Debt</th>\n",
              "      <th>Years of Credit History</th>\n",
              "      <th>Months since last delinquent</th>\n",
              "      <th>Number of Open Accounts</th>\n",
              "      <th>Number of Credit Problems</th>\n",
              "      <th>Current Credit Balance</th>\n",
              "      <th>Maximum Open Credit</th>\n",
              "      <th>Bankruptcies</th>\n",
              "      <th>Tax Liens</th>\n",
              "      <th>Annual Income_log</th>\n",
              "    </tr>\n",
              "  </thead>\n",
              "  <tbody>\n",
              "    <tr>\n",
              "      <th>0</th>\n",
              "      <td>False</td>\n",
              "      <td>False</td>\n",
              "      <td>False</td>\n",
              "      <td>False</td>\n",
              "      <td>False</td>\n",
              "      <td>False</td>\n",
              "      <td>False</td>\n",
              "      <td>False</td>\n",
              "      <td>False</td>\n",
              "      <td>False</td>\n",
              "      <td>False</td>\n",
              "      <td>False</td>\n",
              "      <td>False</td>\n",
              "      <td>False</td>\n",
              "      <td>False</td>\n",
              "      <td>False</td>\n",
              "      <td>False</td>\n",
              "      <td>False</td>\n",
              "      <td>False</td>\n",
              "    </tr>\n",
              "    <tr>\n",
              "      <th>1</th>\n",
              "      <td>False</td>\n",
              "      <td>False</td>\n",
              "      <td>False</td>\n",
              "      <td>False</td>\n",
              "      <td>False</td>\n",
              "      <td>False</td>\n",
              "      <td>False</td>\n",
              "      <td>False</td>\n",
              "      <td>False</td>\n",
              "      <td>False</td>\n",
              "      <td>False</td>\n",
              "      <td>False</td>\n",
              "      <td>False</td>\n",
              "      <td>False</td>\n",
              "      <td>False</td>\n",
              "      <td>False</td>\n",
              "      <td>False</td>\n",
              "      <td>False</td>\n",
              "      <td>False</td>\n",
              "    </tr>\n",
              "    <tr>\n",
              "      <th>2</th>\n",
              "      <td>False</td>\n",
              "      <td>False</td>\n",
              "      <td>False</td>\n",
              "      <td>False</td>\n",
              "      <td>False</td>\n",
              "      <td>False</td>\n",
              "      <td>False</td>\n",
              "      <td>False</td>\n",
              "      <td>False</td>\n",
              "      <td>False</td>\n",
              "      <td>False</td>\n",
              "      <td>False</td>\n",
              "      <td>False</td>\n",
              "      <td>False</td>\n",
              "      <td>False</td>\n",
              "      <td>False</td>\n",
              "      <td>False</td>\n",
              "      <td>False</td>\n",
              "      <td>False</td>\n",
              "    </tr>\n",
              "    <tr>\n",
              "      <th>3</th>\n",
              "      <td>False</td>\n",
              "      <td>False</td>\n",
              "      <td>False</td>\n",
              "      <td>False</td>\n",
              "      <td>False</td>\n",
              "      <td>False</td>\n",
              "      <td>False</td>\n",
              "      <td>False</td>\n",
              "      <td>False</td>\n",
              "      <td>False</td>\n",
              "      <td>False</td>\n",
              "      <td>False</td>\n",
              "      <td>False</td>\n",
              "      <td>False</td>\n",
              "      <td>False</td>\n",
              "      <td>False</td>\n",
              "      <td>False</td>\n",
              "      <td>False</td>\n",
              "      <td>False</td>\n",
              "    </tr>\n",
              "    <tr>\n",
              "      <th>4</th>\n",
              "      <td>False</td>\n",
              "      <td>False</td>\n",
              "      <td>False</td>\n",
              "      <td>False</td>\n",
              "      <td>False</td>\n",
              "      <td>False</td>\n",
              "      <td>False</td>\n",
              "      <td>False</td>\n",
              "      <td>False</td>\n",
              "      <td>False</td>\n",
              "      <td>False</td>\n",
              "      <td>False</td>\n",
              "      <td>False</td>\n",
              "      <td>False</td>\n",
              "      <td>False</td>\n",
              "      <td>False</td>\n",
              "      <td>False</td>\n",
              "      <td>False</td>\n",
              "      <td>False</td>\n",
              "    </tr>\n",
              "    <tr>\n",
              "      <th>...</th>\n",
              "      <td>...</td>\n",
              "      <td>...</td>\n",
              "      <td>...</td>\n",
              "      <td>...</td>\n",
              "      <td>...</td>\n",
              "      <td>...</td>\n",
              "      <td>...</td>\n",
              "      <td>...</td>\n",
              "      <td>...</td>\n",
              "      <td>...</td>\n",
              "      <td>...</td>\n",
              "      <td>...</td>\n",
              "      <td>...</td>\n",
              "      <td>...</td>\n",
              "      <td>...</td>\n",
              "      <td>...</td>\n",
              "      <td>...</td>\n",
              "      <td>...</td>\n",
              "      <td>...</td>\n",
              "    </tr>\n",
              "    <tr>\n",
              "      <th>10348</th>\n",
              "      <td>True</td>\n",
              "      <td>True</td>\n",
              "      <td>False</td>\n",
              "      <td>True</td>\n",
              "      <td>False</td>\n",
              "      <td>False</td>\n",
              "      <td>True</td>\n",
              "      <td>True</td>\n",
              "      <td>True</td>\n",
              "      <td>False</td>\n",
              "      <td>False</td>\n",
              "      <td>False</td>\n",
              "      <td>False</td>\n",
              "      <td>False</td>\n",
              "      <td>False</td>\n",
              "      <td>False</td>\n",
              "      <td>False</td>\n",
              "      <td>False</td>\n",
              "      <td>False</td>\n",
              "    </tr>\n",
              "    <tr>\n",
              "      <th>10349</th>\n",
              "      <td>True</td>\n",
              "      <td>True</td>\n",
              "      <td>False</td>\n",
              "      <td>True</td>\n",
              "      <td>False</td>\n",
              "      <td>False</td>\n",
              "      <td>True</td>\n",
              "      <td>True</td>\n",
              "      <td>True</td>\n",
              "      <td>False</td>\n",
              "      <td>False</td>\n",
              "      <td>False</td>\n",
              "      <td>False</td>\n",
              "      <td>False</td>\n",
              "      <td>False</td>\n",
              "      <td>False</td>\n",
              "      <td>False</td>\n",
              "      <td>False</td>\n",
              "      <td>False</td>\n",
              "    </tr>\n",
              "    <tr>\n",
              "      <th>10350</th>\n",
              "      <td>True</td>\n",
              "      <td>True</td>\n",
              "      <td>False</td>\n",
              "      <td>True</td>\n",
              "      <td>False</td>\n",
              "      <td>False</td>\n",
              "      <td>True</td>\n",
              "      <td>True</td>\n",
              "      <td>True</td>\n",
              "      <td>False</td>\n",
              "      <td>False</td>\n",
              "      <td>False</td>\n",
              "      <td>False</td>\n",
              "      <td>False</td>\n",
              "      <td>False</td>\n",
              "      <td>False</td>\n",
              "      <td>False</td>\n",
              "      <td>False</td>\n",
              "      <td>False</td>\n",
              "    </tr>\n",
              "    <tr>\n",
              "      <th>10351</th>\n",
              "      <td>True</td>\n",
              "      <td>True</td>\n",
              "      <td>False</td>\n",
              "      <td>True</td>\n",
              "      <td>False</td>\n",
              "      <td>False</td>\n",
              "      <td>True</td>\n",
              "      <td>True</td>\n",
              "      <td>True</td>\n",
              "      <td>False</td>\n",
              "      <td>False</td>\n",
              "      <td>False</td>\n",
              "      <td>False</td>\n",
              "      <td>False</td>\n",
              "      <td>False</td>\n",
              "      <td>False</td>\n",
              "      <td>False</td>\n",
              "      <td>False</td>\n",
              "      <td>False</td>\n",
              "    </tr>\n",
              "    <tr>\n",
              "      <th>10352</th>\n",
              "      <td>True</td>\n",
              "      <td>True</td>\n",
              "      <td>False</td>\n",
              "      <td>True</td>\n",
              "      <td>False</td>\n",
              "      <td>False</td>\n",
              "      <td>True</td>\n",
              "      <td>True</td>\n",
              "      <td>True</td>\n",
              "      <td>False</td>\n",
              "      <td>False</td>\n",
              "      <td>False</td>\n",
              "      <td>False</td>\n",
              "      <td>False</td>\n",
              "      <td>False</td>\n",
              "      <td>False</td>\n",
              "      <td>False</td>\n",
              "      <td>False</td>\n",
              "      <td>False</td>\n",
              "    </tr>\n",
              "  </tbody>\n",
              "</table>\n",
              "<p>10353 rows × 19 columns</p>\n",
              "</div>\n",
              "      <button class=\"colab-df-convert\" onclick=\"convertToInteractive('df-8d2e2ca5-7e35-45fd-89d6-9cb76611d959')\"\n",
              "              title=\"Convert this dataframe to an interactive table.\"\n",
              "              style=\"display:none;\">\n",
              "        \n",
              "  <svg xmlns=\"http://www.w3.org/2000/svg\" height=\"24px\"viewBox=\"0 0 24 24\"\n",
              "       width=\"24px\">\n",
              "    <path d=\"M0 0h24v24H0V0z\" fill=\"none\"/>\n",
              "    <path d=\"M18.56 5.44l.94 2.06.94-2.06 2.06-.94-2.06-.94-.94-2.06-.94 2.06-2.06.94zm-11 1L8.5 8.5l.94-2.06 2.06-.94-2.06-.94L8.5 2.5l-.94 2.06-2.06.94zm10 10l.94 2.06.94-2.06 2.06-.94-2.06-.94-.94-2.06-.94 2.06-2.06.94z\"/><path d=\"M17.41 7.96l-1.37-1.37c-.4-.4-.92-.59-1.43-.59-.52 0-1.04.2-1.43.59L10.3 9.45l-7.72 7.72c-.78.78-.78 2.05 0 2.83L4 21.41c.39.39.9.59 1.41.59.51 0 1.02-.2 1.41-.59l7.78-7.78 2.81-2.81c.8-.78.8-2.07 0-2.86zM5.41 20L4 18.59l7.72-7.72 1.47 1.35L5.41 20z\"/>\n",
              "  </svg>\n",
              "      </button>\n",
              "      \n",
              "  <style>\n",
              "    .colab-df-container {\n",
              "      display:flex;\n",
              "      flex-wrap:wrap;\n",
              "      gap: 12px;\n",
              "    }\n",
              "\n",
              "    .colab-df-convert {\n",
              "      background-color: #E8F0FE;\n",
              "      border: none;\n",
              "      border-radius: 50%;\n",
              "      cursor: pointer;\n",
              "      display: none;\n",
              "      fill: #1967D2;\n",
              "      height: 32px;\n",
              "      padding: 0 0 0 0;\n",
              "      width: 32px;\n",
              "    }\n",
              "\n",
              "    .colab-df-convert:hover {\n",
              "      background-color: #E2EBFA;\n",
              "      box-shadow: 0px 1px 2px rgba(60, 64, 67, 0.3), 0px 1px 3px 1px rgba(60, 64, 67, 0.15);\n",
              "      fill: #174EA6;\n",
              "    }\n",
              "\n",
              "    [theme=dark] .colab-df-convert {\n",
              "      background-color: #3B4455;\n",
              "      fill: #D2E3FC;\n",
              "    }\n",
              "\n",
              "    [theme=dark] .colab-df-convert:hover {\n",
              "      background-color: #434B5C;\n",
              "      box-shadow: 0px 1px 3px 1px rgba(0, 0, 0, 0.15);\n",
              "      filter: drop-shadow(0px 1px 2px rgba(0, 0, 0, 0.3));\n",
              "      fill: #FFFFFF;\n",
              "    }\n",
              "  </style>\n",
              "\n",
              "      <script>\n",
              "        const buttonEl =\n",
              "          document.querySelector('#df-8d2e2ca5-7e35-45fd-89d6-9cb76611d959 button.colab-df-convert');\n",
              "        buttonEl.style.display =\n",
              "          google.colab.kernel.accessAllowed ? 'block' : 'none';\n",
              "\n",
              "        async function convertToInteractive(key) {\n",
              "          const element = document.querySelector('#df-8d2e2ca5-7e35-45fd-89d6-9cb76611d959');\n",
              "          const dataTable =\n",
              "            await google.colab.kernel.invokeFunction('convertToInteractive',\n",
              "                                                     [key], {});\n",
              "          if (!dataTable) return;\n",
              "\n",
              "          const docLinkHtml = 'Like what you see? Visit the ' +\n",
              "            '<a target=\"_blank\" href=https://colab.research.google.com/notebooks/data_table.ipynb>data table notebook</a>'\n",
              "            + ' to learn more about interactive tables.';\n",
              "          element.innerHTML = '';\n",
              "          dataTable['output_type'] = 'display_data';\n",
              "          await google.colab.output.renderOutput(dataTable, element);\n",
              "          const docLink = document.createElement('div');\n",
              "          docLink.innerHTML = docLinkHtml;\n",
              "          element.appendChild(docLink);\n",
              "        }\n",
              "      </script>\n",
              "    </div>\n",
              "  </div>\n",
              "  "
            ]
          },
          "metadata": {},
          "execution_count": 58
        }
      ],
      "source": [
        "test.isnull()"
      ]
    },
    {
      "cell_type": "code",
      "execution_count": 59,
      "metadata": {
        "id": "996aa888"
      },
      "outputs": [],
      "source": [
        "train.dropna(inplace=True)"
      ]
    },
    {
      "cell_type": "code",
      "execution_count": 60,
      "metadata": {
        "colab": {
          "base_uri": "https://localhost:8080/",
          "height": 582
        },
        "id": "220bfa34",
        "outputId": "428630fb-5191-40a2-da81-1d60bbb544bf",
        "scrolled": true
      },
      "outputs": [
        {
          "output_type": "execute_result",
          "data": {
            "text/plain": [
              "                                    Loan ID  \\\n",
              "99994  8506a4e9-af7d-47d2-a1bf-7ea2c41858f0   \n",
              "99995  3f94c18c-ba8f-45d0-8610-88a684a410a9   \n",
              "99996  06eba04f-58fc-424a-b666-ed72aa008900   \n",
              "99997  e1cb4050-eff5-4bdb-a1b0-aabd3f7eaac7   \n",
              "99998  81ab928b-d1a5-4523-9a3c-271ebb01b4fb   \n",
              "\n",
              "                                Customer ID  Loan Status  Current Loan Amount  \\\n",
              "99994  be67200e-1ef1-4b63-86a6-2bf27d3c704d            1            12.257640   \n",
              "99995  2da51983-cfef-4b8f-a733-5dfaf69e9281            1            11.898664   \n",
              "99996  77f2252a-b7d1-4b07-a746-1202a8304290            1            18.420681   \n",
              "99997  2ced5f10-bd60-4a11-9134-cadce4e7b0a3            1            11.543804   \n",
              "99998  3e45ffda-99fd-4cfc-b8b8-446f4a505f36            1            13.181259   \n",
              "\n",
              "       Term  Credit Score  Annual Income Years in current job  Home Ownership  \\\n",
              "99994     1         719.0       783389.0               1 year               1   \n",
              "99995     1         725.0       475437.0              7 years               2   \n",
              "99996     1         732.0      1289416.0               1 year               3   \n",
              "99997     1         742.0      1150545.0              6 years               3   \n",
              "99998     1         746.0      1717524.0              9 years               3   \n",
              "\n",
              "       Purpose  Monthly Debt  Years of Credit History  \\\n",
              "99994        7       3727.61                     17.4   \n",
              "99995       11       2202.86                     22.3   \n",
              "99996        3      13109.05                      9.4   \n",
              "99997        3       7315.57                     18.8   \n",
              "99998        3       9890.07                     15.0   \n",
              "\n",
              "       Months since last delinquent  Number of Open Accounts  \\\n",
              "99994                          18.0                      6.0   \n",
              "99995                          13.0                      5.0   \n",
              "99996                          21.0                     22.0   \n",
              "99997                          18.0                     12.0   \n",
              "99998                          13.0                      8.0   \n",
              "\n",
              "       Number of Credit Problems  Current Credit Balance  Maximum Open Credit  \\\n",
              "99994                        0.0                   456.0             259160.0   \n",
              "99995                        0.0                 47766.0             658548.0   \n",
              "99996                        0.0                153045.0             509234.0   \n",
              "99997                        1.0                109554.0             537548.0   \n",
              "99998                        0.0                404225.0             738254.0   \n",
              "\n",
              "       Bankruptcies  Tax Liens  Annual Income_log  \n",
              "99994           0.0        0.0          13.571385  \n",
              "99995           0.0        0.0          13.071990  \n",
              "99996           0.0        0.0          14.069700  \n",
              "99997           1.0        0.0          13.955746  \n",
              "99998           0.0        0.0          14.356394  "
            ],
            "text/html": [
              "\n",
              "  <div id=\"df-e3cb787b-1cde-446c-8ef2-b4164078ce25\">\n",
              "    <div class=\"colab-df-container\">\n",
              "      <div>\n",
              "<style scoped>\n",
              "    .dataframe tbody tr th:only-of-type {\n",
              "        vertical-align: middle;\n",
              "    }\n",
              "\n",
              "    .dataframe tbody tr th {\n",
              "        vertical-align: top;\n",
              "    }\n",
              "\n",
              "    .dataframe thead th {\n",
              "        text-align: right;\n",
              "    }\n",
              "</style>\n",
              "<table border=\"1\" class=\"dataframe\">\n",
              "  <thead>\n",
              "    <tr style=\"text-align: right;\">\n",
              "      <th></th>\n",
              "      <th>Loan ID</th>\n",
              "      <th>Customer ID</th>\n",
              "      <th>Loan Status</th>\n",
              "      <th>Current Loan Amount</th>\n",
              "      <th>Term</th>\n",
              "      <th>Credit Score</th>\n",
              "      <th>Annual Income</th>\n",
              "      <th>Years in current job</th>\n",
              "      <th>Home Ownership</th>\n",
              "      <th>Purpose</th>\n",
              "      <th>Monthly Debt</th>\n",
              "      <th>Years of Credit History</th>\n",
              "      <th>Months since last delinquent</th>\n",
              "      <th>Number of Open Accounts</th>\n",
              "      <th>Number of Credit Problems</th>\n",
              "      <th>Current Credit Balance</th>\n",
              "      <th>Maximum Open Credit</th>\n",
              "      <th>Bankruptcies</th>\n",
              "      <th>Tax Liens</th>\n",
              "      <th>Annual Income_log</th>\n",
              "    </tr>\n",
              "  </thead>\n",
              "  <tbody>\n",
              "    <tr>\n",
              "      <th>99994</th>\n",
              "      <td>8506a4e9-af7d-47d2-a1bf-7ea2c41858f0</td>\n",
              "      <td>be67200e-1ef1-4b63-86a6-2bf27d3c704d</td>\n",
              "      <td>1</td>\n",
              "      <td>12.257640</td>\n",
              "      <td>1</td>\n",
              "      <td>719.0</td>\n",
              "      <td>783389.0</td>\n",
              "      <td>1 year</td>\n",
              "      <td>1</td>\n",
              "      <td>7</td>\n",
              "      <td>3727.61</td>\n",
              "      <td>17.4</td>\n",
              "      <td>18.0</td>\n",
              "      <td>6.0</td>\n",
              "      <td>0.0</td>\n",
              "      <td>456.0</td>\n",
              "      <td>259160.0</td>\n",
              "      <td>0.0</td>\n",
              "      <td>0.0</td>\n",
              "      <td>13.571385</td>\n",
              "    </tr>\n",
              "    <tr>\n",
              "      <th>99995</th>\n",
              "      <td>3f94c18c-ba8f-45d0-8610-88a684a410a9</td>\n",
              "      <td>2da51983-cfef-4b8f-a733-5dfaf69e9281</td>\n",
              "      <td>1</td>\n",
              "      <td>11.898664</td>\n",
              "      <td>1</td>\n",
              "      <td>725.0</td>\n",
              "      <td>475437.0</td>\n",
              "      <td>7 years</td>\n",
              "      <td>2</td>\n",
              "      <td>11</td>\n",
              "      <td>2202.86</td>\n",
              "      <td>22.3</td>\n",
              "      <td>13.0</td>\n",
              "      <td>5.0</td>\n",
              "      <td>0.0</td>\n",
              "      <td>47766.0</td>\n",
              "      <td>658548.0</td>\n",
              "      <td>0.0</td>\n",
              "      <td>0.0</td>\n",
              "      <td>13.071990</td>\n",
              "    </tr>\n",
              "    <tr>\n",
              "      <th>99996</th>\n",
              "      <td>06eba04f-58fc-424a-b666-ed72aa008900</td>\n",
              "      <td>77f2252a-b7d1-4b07-a746-1202a8304290</td>\n",
              "      <td>1</td>\n",
              "      <td>18.420681</td>\n",
              "      <td>1</td>\n",
              "      <td>732.0</td>\n",
              "      <td>1289416.0</td>\n",
              "      <td>1 year</td>\n",
              "      <td>3</td>\n",
              "      <td>3</td>\n",
              "      <td>13109.05</td>\n",
              "      <td>9.4</td>\n",
              "      <td>21.0</td>\n",
              "      <td>22.0</td>\n",
              "      <td>0.0</td>\n",
              "      <td>153045.0</td>\n",
              "      <td>509234.0</td>\n",
              "      <td>0.0</td>\n",
              "      <td>0.0</td>\n",
              "      <td>14.069700</td>\n",
              "    </tr>\n",
              "    <tr>\n",
              "      <th>99997</th>\n",
              "      <td>e1cb4050-eff5-4bdb-a1b0-aabd3f7eaac7</td>\n",
              "      <td>2ced5f10-bd60-4a11-9134-cadce4e7b0a3</td>\n",
              "      <td>1</td>\n",
              "      <td>11.543804</td>\n",
              "      <td>1</td>\n",
              "      <td>742.0</td>\n",
              "      <td>1150545.0</td>\n",
              "      <td>6 years</td>\n",
              "      <td>3</td>\n",
              "      <td>3</td>\n",
              "      <td>7315.57</td>\n",
              "      <td>18.8</td>\n",
              "      <td>18.0</td>\n",
              "      <td>12.0</td>\n",
              "      <td>1.0</td>\n",
              "      <td>109554.0</td>\n",
              "      <td>537548.0</td>\n",
              "      <td>1.0</td>\n",
              "      <td>0.0</td>\n",
              "      <td>13.955746</td>\n",
              "    </tr>\n",
              "    <tr>\n",
              "      <th>99998</th>\n",
              "      <td>81ab928b-d1a5-4523-9a3c-271ebb01b4fb</td>\n",
              "      <td>3e45ffda-99fd-4cfc-b8b8-446f4a505f36</td>\n",
              "      <td>1</td>\n",
              "      <td>13.181259</td>\n",
              "      <td>1</td>\n",
              "      <td>746.0</td>\n",
              "      <td>1717524.0</td>\n",
              "      <td>9 years</td>\n",
              "      <td>3</td>\n",
              "      <td>3</td>\n",
              "      <td>9890.07</td>\n",
              "      <td>15.0</td>\n",
              "      <td>13.0</td>\n",
              "      <td>8.0</td>\n",
              "      <td>0.0</td>\n",
              "      <td>404225.0</td>\n",
              "      <td>738254.0</td>\n",
              "      <td>0.0</td>\n",
              "      <td>0.0</td>\n",
              "      <td>14.356394</td>\n",
              "    </tr>\n",
              "  </tbody>\n",
              "</table>\n",
              "</div>\n",
              "      <button class=\"colab-df-convert\" onclick=\"convertToInteractive('df-e3cb787b-1cde-446c-8ef2-b4164078ce25')\"\n",
              "              title=\"Convert this dataframe to an interactive table.\"\n",
              "              style=\"display:none;\">\n",
              "        \n",
              "  <svg xmlns=\"http://www.w3.org/2000/svg\" height=\"24px\"viewBox=\"0 0 24 24\"\n",
              "       width=\"24px\">\n",
              "    <path d=\"M0 0h24v24H0V0z\" fill=\"none\"/>\n",
              "    <path d=\"M18.56 5.44l.94 2.06.94-2.06 2.06-.94-2.06-.94-.94-2.06-.94 2.06-2.06.94zm-11 1L8.5 8.5l.94-2.06 2.06-.94-2.06-.94L8.5 2.5l-.94 2.06-2.06.94zm10 10l.94 2.06.94-2.06 2.06-.94-2.06-.94-.94-2.06-.94 2.06-2.06.94z\"/><path d=\"M17.41 7.96l-1.37-1.37c-.4-.4-.92-.59-1.43-.59-.52 0-1.04.2-1.43.59L10.3 9.45l-7.72 7.72c-.78.78-.78 2.05 0 2.83L4 21.41c.39.39.9.59 1.41.59.51 0 1.02-.2 1.41-.59l7.78-7.78 2.81-2.81c.8-.78.8-2.07 0-2.86zM5.41 20L4 18.59l7.72-7.72 1.47 1.35L5.41 20z\"/>\n",
              "  </svg>\n",
              "      </button>\n",
              "      \n",
              "  <style>\n",
              "    .colab-df-container {\n",
              "      display:flex;\n",
              "      flex-wrap:wrap;\n",
              "      gap: 12px;\n",
              "    }\n",
              "\n",
              "    .colab-df-convert {\n",
              "      background-color: #E8F0FE;\n",
              "      border: none;\n",
              "      border-radius: 50%;\n",
              "      cursor: pointer;\n",
              "      display: none;\n",
              "      fill: #1967D2;\n",
              "      height: 32px;\n",
              "      padding: 0 0 0 0;\n",
              "      width: 32px;\n",
              "    }\n",
              "\n",
              "    .colab-df-convert:hover {\n",
              "      background-color: #E2EBFA;\n",
              "      box-shadow: 0px 1px 2px rgba(60, 64, 67, 0.3), 0px 1px 3px 1px rgba(60, 64, 67, 0.15);\n",
              "      fill: #174EA6;\n",
              "    }\n",
              "\n",
              "    [theme=dark] .colab-df-convert {\n",
              "      background-color: #3B4455;\n",
              "      fill: #D2E3FC;\n",
              "    }\n",
              "\n",
              "    [theme=dark] .colab-df-convert:hover {\n",
              "      background-color: #434B5C;\n",
              "      box-shadow: 0px 1px 3px 1px rgba(0, 0, 0, 0.15);\n",
              "      filter: drop-shadow(0px 1px 2px rgba(0, 0, 0, 0.3));\n",
              "      fill: #FFFFFF;\n",
              "    }\n",
              "  </style>\n",
              "\n",
              "      <script>\n",
              "        const buttonEl =\n",
              "          document.querySelector('#df-e3cb787b-1cde-446c-8ef2-b4164078ce25 button.colab-df-convert');\n",
              "        buttonEl.style.display =\n",
              "          google.colab.kernel.accessAllowed ? 'block' : 'none';\n",
              "\n",
              "        async function convertToInteractive(key) {\n",
              "          const element = document.querySelector('#df-e3cb787b-1cde-446c-8ef2-b4164078ce25');\n",
              "          const dataTable =\n",
              "            await google.colab.kernel.invokeFunction('convertToInteractive',\n",
              "                                                     [key], {});\n",
              "          if (!dataTable) return;\n",
              "\n",
              "          const docLinkHtml = 'Like what you see? Visit the ' +\n",
              "            '<a target=\"_blank\" href=https://colab.research.google.com/notebooks/data_table.ipynb>data table notebook</a>'\n",
              "            + ' to learn more about interactive tables.';\n",
              "          element.innerHTML = '';\n",
              "          dataTable['output_type'] = 'display_data';\n",
              "          await google.colab.output.renderOutput(dataTable, element);\n",
              "          const docLink = document.createElement('div');\n",
              "          docLink.innerHTML = docLinkHtml;\n",
              "          element.appendChild(docLink);\n",
              "        }\n",
              "      </script>\n",
              "    </div>\n",
              "  </div>\n",
              "  "
            ]
          },
          "metadata": {},
          "execution_count": 60
        }
      ],
      "source": [
        "\n",
        "train.tail()"
      ]
    },
    {
      "cell_type": "code",
      "execution_count": 61,
      "metadata": {
        "colab": {
          "base_uri": "https://localhost:8080/"
        },
        "id": "c35f062c",
        "outputId": "40b4cf58-bd08-4b2e-db9b-6f1973c093eb",
        "scrolled": true
      },
      "outputs": [
        {
          "output_type": "execute_result",
          "data": {
            "text/plain": [
              "Loan ID                         0\n",
              "Customer ID                     0\n",
              "Loan Status                     0\n",
              "Current Loan Amount             0\n",
              "Term                            0\n",
              "Credit Score                    0\n",
              "Annual Income                   0\n",
              "Years in current job            0\n",
              "Home Ownership                  0\n",
              "Purpose                         0\n",
              "Monthly Debt                    0\n",
              "Years of Credit History         0\n",
              "Months since last delinquent    0\n",
              "Number of Open Accounts         0\n",
              "Number of Credit Problems       0\n",
              "Current Credit Balance          0\n",
              "Maximum Open Credit             0\n",
              "Bankruptcies                    0\n",
              "Tax Liens                       0\n",
              "Annual Income_log               0\n",
              "dtype: int64"
            ]
          },
          "metadata": {},
          "execution_count": 61
        }
      ],
      "source": [
        "train.isnull().sum()"
      ]
    },
    {
      "cell_type": "code",
      "execution_count": 62,
      "metadata": {
        "id": "d0bf0606"
      },
      "outputs": [],
      "source": [
        "test.dropna(inplace=True)"
      ]
    },
    {
      "cell_type": "code",
      "execution_count": 63,
      "metadata": {
        "colab": {
          "base_uri": "https://localhost:8080/"
        },
        "id": "e798a64d",
        "outputId": "9d3fb6cb-f68b-44df-d6a6-f15d18ac2d3d"
      },
      "outputs": [
        {
          "output_type": "execute_result",
          "data": {
            "text/plain": [
              "Loan ID                         0\n",
              "Customer ID                     0\n",
              "Current Loan Amount             0\n",
              "Term                            0\n",
              "Credit Score                    0\n",
              "Annual Income                   0\n",
              "Years in current job            0\n",
              "Home Ownership                  0\n",
              "Purpose                         0\n",
              "Monthly Debt                    0\n",
              "Years of Credit History         0\n",
              "Months since last delinquent    0\n",
              "Number of Open Accounts         0\n",
              "Number of Credit Problems       0\n",
              "Current Credit Balance          0\n",
              "Maximum Open Credit             0\n",
              "Bankruptcies                    0\n",
              "Tax Liens                       0\n",
              "Annual Income_log               0\n",
              "dtype: int64"
            ]
          },
          "metadata": {},
          "execution_count": 63
        }
      ],
      "source": [
        "test.isnull().sum()"
      ]
    },
    {
      "cell_type": "code",
      "execution_count": 64,
      "metadata": {
        "id": "31423961"
      },
      "outputs": [],
      "source": [
        "\n",
        "train.dropna(inplace=True)"
      ]
    },
    {
      "cell_type": "code",
      "execution_count": 65,
      "metadata": {
        "id": "719bbed1"
      },
      "outputs": [],
      "source": [
        "test.dropna(inplace=True)"
      ]
    },
    {
      "cell_type": "code",
      "execution_count": 66,
      "metadata": {
        "colab": {
          "base_uri": "https://localhost:8080/"
        },
        "id": "6iydsRc6Q13s",
        "outputId": "abeaa7ae-cd5f-4c0a-a7e7-f985ed44b741"
      },
      "outputs": [
        {
          "output_type": "execute_result",
          "data": {
            "text/plain": [
              "9795"
            ]
          },
          "metadata": {},
          "execution_count": 66
        }
      ],
      "source": [
        "train.duplicated().sum()"
      ]
    },
    {
      "cell_type": "code",
      "execution_count": 67,
      "metadata": {
        "id": "klldxm8hQ6k_"
      },
      "outputs": [],
      "source": [
        "train.drop_duplicates(inplace=True)"
      ]
    },
    {
      "cell_type": "code",
      "execution_count": 68,
      "metadata": {
        "id": "kHgYtGtfRbwd"
      },
      "outputs": [],
      "source": [
        "\n",
        "#Function to view the value counts for the whole data\n",
        "def v_counts(dataframe):\n",
        "    for i in dataframe :\n",
        "        print(dataframe[i].value_counts())\n",
        "        print(\"_____________________________________________________________________________\")"
      ]
    },
    {
      "cell_type": "code",
      "execution_count": 69,
      "metadata": {
        "colab": {
          "base_uri": "https://localhost:8080/"
        },
        "id": "uIPErnfeRXkr",
        "outputId": "c133dbec-ba42-405d-a5d6-b5ce1731b499"
      },
      "outputs": [
        {
          "output_type": "stream",
          "name": "stdout",
          "text": [
            "dd084b40-47fb-44b5-b2e3-955a5d3a0234    2\n",
            "6546672d-ce5e-4e72-bea2-6ffe1857a9d5    2\n",
            "7e973642-e7b3-4e98-9aa4-c33bc0507700    2\n",
            "9afb8407-15aa-4eba-8ec3-0097dca26902    2\n",
            "0b24ec3e-923a-45a4-95ad-2145dbac7bae    2\n",
            "                                       ..\n",
            "c08233fb-294b-412f-9208-331a9a98e4ba    1\n",
            "29ad94de-47b9-4b82-90ea-467ca8147c70    1\n",
            "687c0ab0-41fd-41b3-86ae-998cfd763c46    1\n",
            "970258a8-add9-47c7-8aa0-af238b21a6fd    1\n",
            "81ab928b-d1a5-4523-9a3c-271ebb01b4fb    1\n",
            "Name: Loan ID, Length: 78491, dtype: int64\n",
            "_____________________________________________________________________________\n",
            "773588a5-1747-4903-b66e-e7041b437a1d    2\n",
            "04584937-56c9-4b18-95ce-2e8054563bdd    2\n",
            "038c8eac-3229-4576-b1e4-b37016dc644b    2\n",
            "85608939-6c47-4d3b-af33-3c9ae4535fb8    2\n",
            "0c2d415f-58dd-4c60-af36-a34eb38fccb2    2\n",
            "                                       ..\n",
            "1d0a9a0d-5d0a-4d24-82ff-b9c8245a7b72    1\n",
            "cf2372da-4c44-4570-81d6-94192e8b23e2    1\n",
            "0ac47b66-6bfd-4c52-8189-5879b9438496    1\n",
            "1d89bb4d-4d62-4339-9eed-f444ef85b510    1\n",
            "3e45ffda-99fd-4cfc-b8b8-446f4a505f36    1\n",
            "Name: Customer ID, Length: 78491, dtype: int64\n",
            "_____________________________________________________________________________\n",
            "1    64616\n",
            "0    21367\n",
            "Name: Loan Status, dtype: int64\n",
            "_____________________________________________________________________________\n",
            "18.420681    11056\n",
            "12.316370       24\n",
            "12.316862       22\n",
            "12.315384       22\n",
            "12.280057       22\n",
            "             ...  \n",
            "13.187421        1\n",
            "13.374506        1\n",
            "13.190385        1\n",
            "13.146221        1\n",
            "12.521161        1\n",
            "Name: Current Loan Amount, Length: 21682, dtype: int64\n",
            "_____________________________________________________________________________\n",
            "1    62813\n",
            "0    23170\n",
            "Name: Term, dtype: int64\n",
            "_____________________________________________________________________________\n",
            "747.0     20100\n",
            "746.0      1679\n",
            "740.0      1669\n",
            "741.0      1668\n",
            "742.0      1644\n",
            "          ...  \n",
            "6010.0        1\n",
            "6070.0        1\n",
            "5960.0        1\n",
            "5860.0        1\n",
            "5890.0        1\n",
            "Name: Credit Score, Length: 323, dtype: int64\n",
            "_____________________________________________________________________________\n",
            "1162572.0    18364\n",
            "1140000.0       17\n",
            "969475.0        16\n",
            "1146612.0       15\n",
            "1143762.0       14\n",
            "             ...  \n",
            "1076065.0        1\n",
            "2160319.0        1\n",
            "2468233.0        1\n",
            "2419650.0        1\n",
            "1289416.0        1\n",
            "Name: Annual Income, Length: 34898, dtype: int64\n",
            "_____________________________________________________________________________\n",
            "10+ years    27755\n",
            "2 years       8254\n",
            "< 1 year      7365\n",
            "3 years       7339\n",
            "5 years       6136\n",
            "1 year        5832\n",
            "4 years       5511\n",
            "6 years       5134\n",
            "7 years       4989\n",
            "8 years       4121\n",
            "9 years       3547\n",
            "Name: Years in current job, dtype: int64\n",
            "_____________________________________________________________________________\n",
            "1    41818\n",
            "3    36467\n",
            "2     7522\n",
            "0      176\n",
            "Name: Home Ownership, dtype: int64\n",
            "_____________________________________________________________________________\n",
            "3     67987\n",
            "5      4957\n",
            "11     4928\n",
            "7      2760\n",
            "0      1336\n",
            "2      1116\n",
            "6       906\n",
            "1       561\n",
            "8       463\n",
            "9       312\n",
            "13      250\n",
            "10      125\n",
            "15      104\n",
            "4        87\n",
            "14       83\n",
            "12        8\n",
            "Name: Purpose, dtype: int64\n",
            "_____________________________________________________________________________\n",
            "0.00        66\n",
            "15903.00     9\n",
            "10647.98     8\n",
            "11380.24     7\n",
            "14726.52     7\n",
            "            ..\n",
            "17268.34     1\n",
            "26930.98     1\n",
            "10632.40     1\n",
            "33067.41     1\n",
            "9890.07      1\n",
            "Name: Monthly Debt, Length: 63529, dtype: int64\n",
            "_____________________________________________________________________________\n",
            "16.0    1167\n",
            "15.0    1154\n",
            "17.0    1046\n",
            "16.5    1009\n",
            "14.0    1001\n",
            "        ... \n",
            "54.0       1\n",
            "47.1       1\n",
            "3.6        1\n",
            "52.8       1\n",
            "49.7       1\n",
            "Name: Years of Credit History, Length: 493, dtype: int64\n",
            "_____________________________________________________________________________\n",
            "13.0     47074\n",
            "12.0       749\n",
            "9.0        739\n",
            "14.0       737\n",
            "15.0       727\n",
            "         ...  \n",
            "93.0         1\n",
            "110.0        1\n",
            "152.0        1\n",
            "118.0        1\n",
            "131.0        1\n",
            "Name: Months since last delinquent, Length: 116, dtype: int64\n",
            "_____________________________________________________________________________\n",
            "9.0     8066\n",
            "10.0    7767\n",
            "8.0     7562\n",
            "11.0    7402\n",
            "7.0     6893\n",
            "12.0    6459\n",
            "6.0     5737\n",
            "13.0    5417\n",
            "14.0    4495\n",
            "5.0     4012\n",
            "15.0    3702\n",
            "16.0    3036\n",
            "17.0    2485\n",
            "4.0     2379\n",
            "18.0    1921\n",
            "19.0    1658\n",
            "20.0    1248\n",
            "3.0     1104\n",
            "21.0     977\n",
            "22.0     724\n",
            "23.0     589\n",
            "24.0     477\n",
            "25.0     370\n",
            "2.0      348\n",
            "26.0     231\n",
            "27.0     230\n",
            "28.0     146\n",
            "29.0     108\n",
            "30.0      93\n",
            "31.0      64\n",
            "32.0      58\n",
            "33.0      47\n",
            "34.0      35\n",
            "36.0      24\n",
            "35.0      20\n",
            "1.0       20\n",
            "37.0      15\n",
            "38.0      11\n",
            "43.0       8\n",
            "40.0       7\n",
            "39.0       7\n",
            "41.0       6\n",
            "45.0       5\n",
            "42.0       4\n",
            "47.0       3\n",
            "44.0       3\n",
            "48.0       2\n",
            "0.0        2\n",
            "56.0       2\n",
            "52.0       2\n",
            "76.0       2\n",
            "Name: Number of Open Accounts, dtype: int64\n",
            "_____________________________________________________________________________\n",
            "0.0     74614\n",
            "1.0      9853\n",
            "2.0      1052\n",
            "3.0       295\n",
            "4.0       100\n",
            "5.0        39\n",
            "6.0        13\n",
            "7.0         8\n",
            "8.0         3\n",
            "9.0         2\n",
            "11.0        1\n",
            "15.0        1\n",
            "10.0        1\n",
            "12.0        1\n",
            "Name: Number of Credit Problems, dtype: int64\n",
            "_____________________________________________________________________________\n",
            "0.0          498\n",
            "137807.0      15\n",
            "67697.0       14\n",
            "111682.0      14\n",
            "106039.0      14\n",
            "            ... \n",
            "1027729.0      1\n",
            "387923.0       1\n",
            "358150.0       1\n",
            "1741787.0      1\n",
            "850820.0       1\n",
            "Name: Current Credit Balance, Length: 32317, dtype: int64\n",
            "_____________________________________________________________________________\n",
            "0.0          599\n",
            "237204.0      11\n",
            "150194.0      11\n",
            "148346.0      10\n",
            "376992.0      10\n",
            "            ... \n",
            "1185096.0      1\n",
            "767448.0       1\n",
            "846428.0       1\n",
            "994444.0       1\n",
            "892606.0       1\n",
            "Name: Maximum Open Credit, Length: 43648, dtype: int64\n",
            "_____________________________________________________________________________\n",
            "0.0    77056\n",
            "1.0     8484\n",
            "2.0      341\n",
            "3.0       77\n",
            "4.0       18\n",
            "5.0        5\n",
            "7.0        1\n",
            "6.0        1\n",
            "Name: Bankruptcies, dtype: int64\n",
            "_____________________________________________________________________________\n",
            "0.0     84423\n",
            "1.0      1084\n",
            "2.0       300\n",
            "3.0        95\n",
            "4.0        47\n",
            "5.0        13\n",
            "6.0        10\n",
            "7.0         6\n",
            "9.0         2\n",
            "11.0        1\n",
            "15.0        1\n",
            "10.0        1\n",
            "Name: Tax Liens, dtype: int64\n",
            "_____________________________________________________________________________\n",
            "13.966145    18364\n",
            "13.946539       17\n",
            "13.784510       16\n",
            "13.952322       15\n",
            "13.949833       14\n",
            "             ...  \n",
            "13.888821        1\n",
            "14.585766        1\n",
            "14.719013        1\n",
            "14.699133        1\n",
            "14.069700        1\n",
            "Name: Annual Income_log, Length: 34898, dtype: int64\n",
            "_____________________________________________________________________________\n"
          ]
        }
      ],
      "source": [
        "v_counts(train)"
      ]
    },
    {
      "cell_type": "code",
      "execution_count": 70,
      "metadata": {
        "colab": {
          "base_uri": "https://localhost:8080/"
        },
        "id": "k0Ldt4UjRE1H",
        "outputId": "df054341-5eae-45c1-a81b-0f9ff82711b0"
      },
      "outputs": [
        {
          "output_type": "execute_result",
          "data": {
            "text/plain": [
              "(85983, 20)"
            ]
          },
          "metadata": {},
          "execution_count": 70
        }
      ],
      "source": [
        "\n",
        "train.shape"
      ]
    },
    {
      "cell_type": "code",
      "execution_count": 71,
      "metadata": {
        "colab": {
          "base_uri": "https://localhost:8080/"
        },
        "id": "QY4J7wi5KcLg",
        "outputId": "adf62805-155c-4097-eac9-5044ed2e0a00"
      },
      "outputs": [
        {
          "output_type": "execute_result",
          "data": {
            "text/plain": [
              "(85983, 20)"
            ]
          },
          "metadata": {},
          "execution_count": 71
        }
      ],
      "source": [
        "train.shape"
      ]
    },
    {
      "cell_type": "code",
      "execution_count": 72,
      "metadata": {
        "colab": {
          "base_uri": "https://localhost:8080/"
        },
        "id": "Kg0PgXFGKfOy",
        "outputId": "a8c95846-7aea-40fd-d50f-239ad3bb4475"
      },
      "outputs": [
        {
          "output_type": "execute_result",
          "data": {
            "text/plain": [
              "(9573, 19)"
            ]
          },
          "metadata": {},
          "execution_count": 72
        }
      ],
      "source": [
        "test.shape"
      ]
    },
    {
      "cell_type": "code",
      "execution_count": 73,
      "metadata": {
        "colab": {
          "base_uri": "https://localhost:8080/"
        },
        "id": "pillkGnTO77W",
        "outputId": "05ed61fe-c8f4-4be0-b2d0-a1ca00526ea8"
      },
      "outputs": [
        {
          "output_type": "stream",
          "name": "stdout",
          "text": [
            "<class 'pandas.core.frame.DataFrame'>\n",
            "Int64Index: 85983 entries, 0 to 99998\n",
            "Data columns (total 20 columns):\n",
            " #   Column                        Non-Null Count  Dtype  \n",
            "---  ------                        --------------  -----  \n",
            " 0   Loan ID                       85983 non-null  object \n",
            " 1   Customer ID                   85983 non-null  object \n",
            " 2   Loan Status                   85983 non-null  int64  \n",
            " 3   Current Loan Amount           85983 non-null  float64\n",
            " 4   Term                          85983 non-null  int64  \n",
            " 5   Credit Score                  85983 non-null  float64\n",
            " 6   Annual Income                 85983 non-null  float64\n",
            " 7   Years in current job          85983 non-null  object \n",
            " 8   Home Ownership                85983 non-null  int64  \n",
            " 9   Purpose                       85983 non-null  int64  \n",
            " 10  Monthly Debt                  85983 non-null  float64\n",
            " 11  Years of Credit History       85983 non-null  float64\n",
            " 12  Months since last delinquent  85983 non-null  float64\n",
            " 13  Number of Open Accounts       85983 non-null  float64\n",
            " 14  Number of Credit Problems     85983 non-null  float64\n",
            " 15  Current Credit Balance        85983 non-null  float64\n",
            " 16  Maximum Open Credit           85983 non-null  float64\n",
            " 17  Bankruptcies                  85983 non-null  float64\n",
            " 18  Tax Liens                     85983 non-null  float64\n",
            " 19  Annual Income_log             85983 non-null  float64\n",
            "dtypes: float64(13), int64(4), object(3)\n",
            "memory usage: 13.8+ MB\n"
          ]
        }
      ],
      "source": [
        "train.info()"
      ]
    },
    {
      "cell_type": "code",
      "execution_count": 74,
      "metadata": {
        "id": "3047d02f"
      },
      "outputs": [],
      "source": [
        "#Our data is clean we can apply logisticRegression"
      ]
    },
    {
      "cell_type": "code",
      "execution_count": 75,
      "metadata": {
        "id": "lxnd2MkyPXnq"
      },
      "outputs": [],
      "source": [
        "from sklearn.model_selection import train_test_split "
      ]
    },
    {
      "cell_type": "code",
      "execution_count": 76,
      "metadata": {
        "id": "MopFpWUcPjwV"
      },
      "outputs": [],
      "source": [
        "x_train=train[['Current Loan Amount','Credit Score','Annual Income','Monthly Debt']]\n",
        "y_train=train['Loan Status']\n",
        "\n",
        "x_test=test[['Current Loan Amount','Credit Score','Annual Income','Monthly Debt']]\n",
        "y_test=train['Loan Status']"
      ]
    },
    {
      "cell_type": "code",
      "execution_count": 77,
      "metadata": {
        "id": "mSa8ok7mPUZn"
      },
      "outputs": [],
      "source": [
        "x_train , x_test , y_train , y_test = train_test_split(x_train,y_train, test_size= 0.20, random_state =30)"
      ]
    },
    {
      "cell_type": "code",
      "execution_count": 78,
      "metadata": {
        "colab": {
          "base_uri": "https://localhost:8080/"
        },
        "id": "U4ErHF7TPup9",
        "outputId": "bf67d9e8-47d7-4513-ecf0-053fd04aeece"
      },
      "outputs": [
        {
          "output_type": "stream",
          "name": "stdout",
          "text": [
            "(68786, 4) (17197, 4)\n"
          ]
        }
      ],
      "source": [
        "print(x_train.shape , x_test.shape)"
      ]
    },
    {
      "cell_type": "code",
      "execution_count": 79,
      "metadata": {
        "id": "d4n8IwQUNSnf"
      },
      "outputs": [],
      "source": [
        "#Logistic Regression\n",
        "\n",
        "from sklearn.linear_model import LogisticRegression\n",
        "from sklearn.metrics import classification_report\n",
        "from sklearn.metrics import confusion_matrix,accuracy_score\n",
        "import math\n"
      ]
    },
    {
      "cell_type": "code",
      "execution_count": 80,
      "metadata": {
        "id": "39042df1"
      },
      "outputs": [],
      "source": [
        "from sklearn.model_selection import train_test_split\n",
        "from sklearn.linear_model import LogisticRegression\n",
        "\n",
        "\n",
        "log = LogisticRegression()\n",
        "\n"
      ]
    },
    {
      "cell_type": "code",
      "execution_count": 81,
      "metadata": {
        "colab": {
          "base_uri": "https://localhost:8080/",
          "height": 74
        },
        "id": "092PSxJxSiWY",
        "outputId": "2ad25050-53ee-4e74-9ccc-fef3ad25b365"
      },
      "outputs": [
        {
          "output_type": "execute_result",
          "data": {
            "text/plain": [
              "LogisticRegression()"
            ],
            "text/html": [
              "<style>#sk-container-id-1 {color: black;background-color: white;}#sk-container-id-1 pre{padding: 0;}#sk-container-id-1 div.sk-toggleable {background-color: white;}#sk-container-id-1 label.sk-toggleable__label {cursor: pointer;display: block;width: 100%;margin-bottom: 0;padding: 0.3em;box-sizing: border-box;text-align: center;}#sk-container-id-1 label.sk-toggleable__label-arrow:before {content: \"▸\";float: left;margin-right: 0.25em;color: #696969;}#sk-container-id-1 label.sk-toggleable__label-arrow:hover:before {color: black;}#sk-container-id-1 div.sk-estimator:hover label.sk-toggleable__label-arrow:before {color: black;}#sk-container-id-1 div.sk-toggleable__content {max-height: 0;max-width: 0;overflow: hidden;text-align: left;background-color: #f0f8ff;}#sk-container-id-1 div.sk-toggleable__content pre {margin: 0.2em;color: black;border-radius: 0.25em;background-color: #f0f8ff;}#sk-container-id-1 input.sk-toggleable__control:checked~div.sk-toggleable__content {max-height: 200px;max-width: 100%;overflow: auto;}#sk-container-id-1 input.sk-toggleable__control:checked~label.sk-toggleable__label-arrow:before {content: \"▾\";}#sk-container-id-1 div.sk-estimator input.sk-toggleable__control:checked~label.sk-toggleable__label {background-color: #d4ebff;}#sk-container-id-1 div.sk-label input.sk-toggleable__control:checked~label.sk-toggleable__label {background-color: #d4ebff;}#sk-container-id-1 input.sk-hidden--visually {border: 0;clip: rect(1px 1px 1px 1px);clip: rect(1px, 1px, 1px, 1px);height: 1px;margin: -1px;overflow: hidden;padding: 0;position: absolute;width: 1px;}#sk-container-id-1 div.sk-estimator {font-family: monospace;background-color: #f0f8ff;border: 1px dotted black;border-radius: 0.25em;box-sizing: border-box;margin-bottom: 0.5em;}#sk-container-id-1 div.sk-estimator:hover {background-color: #d4ebff;}#sk-container-id-1 div.sk-parallel-item::after {content: \"\";width: 100%;border-bottom: 1px solid gray;flex-grow: 1;}#sk-container-id-1 div.sk-label:hover label.sk-toggleable__label {background-color: #d4ebff;}#sk-container-id-1 div.sk-serial::before {content: \"\";position: absolute;border-left: 1px solid gray;box-sizing: border-box;top: 0;bottom: 0;left: 50%;z-index: 0;}#sk-container-id-1 div.sk-serial {display: flex;flex-direction: column;align-items: center;background-color: white;padding-right: 0.2em;padding-left: 0.2em;position: relative;}#sk-container-id-1 div.sk-item {position: relative;z-index: 1;}#sk-container-id-1 div.sk-parallel {display: flex;align-items: stretch;justify-content: center;background-color: white;position: relative;}#sk-container-id-1 div.sk-item::before, #sk-container-id-1 div.sk-parallel-item::before {content: \"\";position: absolute;border-left: 1px solid gray;box-sizing: border-box;top: 0;bottom: 0;left: 50%;z-index: -1;}#sk-container-id-1 div.sk-parallel-item {display: flex;flex-direction: column;z-index: 1;position: relative;background-color: white;}#sk-container-id-1 div.sk-parallel-item:first-child::after {align-self: flex-end;width: 50%;}#sk-container-id-1 div.sk-parallel-item:last-child::after {align-self: flex-start;width: 50%;}#sk-container-id-1 div.sk-parallel-item:only-child::after {width: 0;}#sk-container-id-1 div.sk-dashed-wrapped {border: 1px dashed gray;margin: 0 0.4em 0.5em 0.4em;box-sizing: border-box;padding-bottom: 0.4em;background-color: white;}#sk-container-id-1 div.sk-label label {font-family: monospace;font-weight: bold;display: inline-block;line-height: 1.2em;}#sk-container-id-1 div.sk-label-container {text-align: center;}#sk-container-id-1 div.sk-container {/* jupyter's `normalize.less` sets `[hidden] { display: none; }` but bootstrap.min.css set `[hidden] { display: none !important; }` so we also need the `!important` here to be able to override the default hidden behavior on the sphinx rendered scikit-learn.org. See: https://github.com/scikit-learn/scikit-learn/issues/21755 */display: inline-block !important;position: relative;}#sk-container-id-1 div.sk-text-repr-fallback {display: none;}</style><div id=\"sk-container-id-1\" class=\"sk-top-container\"><div class=\"sk-text-repr-fallback\"><pre>LogisticRegression()</pre><b>In a Jupyter environment, please rerun this cell to show the HTML representation or trust the notebook. <br />On GitHub, the HTML representation is unable to render, please try loading this page with nbviewer.org.</b></div><div class=\"sk-container\" hidden><div class=\"sk-item\"><div class=\"sk-estimator sk-toggleable\"><input class=\"sk-toggleable__control sk-hidden--visually\" id=\"sk-estimator-id-1\" type=\"checkbox\" checked><label for=\"sk-estimator-id-1\" class=\"sk-toggleable__label sk-toggleable__label-arrow\">LogisticRegression</label><div class=\"sk-toggleable__content\"><pre>LogisticRegression()</pre></div></div></div></div></div>"
            ]
          },
          "metadata": {},
          "execution_count": 81
        }
      ],
      "source": [
        "log.fit(x_train, y_train)"
      ]
    },
    {
      "cell_type": "code",
      "execution_count": 82,
      "metadata": {
        "colab": {
          "base_uri": "https://localhost:8080/"
        },
        "id": "UhquUzqvSmxP",
        "outputId": "965aecc1-00eb-4ac2-d45f-8687447c9cb2"
      },
      "outputs": [
        {
          "output_type": "execute_result",
          "data": {
            "text/plain": [
              "0.7961358415956735"
            ]
          },
          "metadata": {},
          "execution_count": 82
        }
      ],
      "source": [
        "log.score(x_train , y_train)"
      ]
    },
    {
      "cell_type": "code",
      "execution_count": 83,
      "metadata": {
        "colab": {
          "base_uri": "https://localhost:8080/"
        },
        "id": "kWuHQHtqSb6C",
        "outputId": "d88e14e5-9873-4372-dc01-254eaa715393"
      },
      "outputs": [
        {
          "output_type": "execute_result",
          "data": {
            "text/plain": [
              "0.803279641797988"
            ]
          },
          "metadata": {},
          "execution_count": 83
        }
      ],
      "source": [
        "log.score(x_test, y_test)"
      ]
    },
    {
      "cell_type": "code",
      "execution_count": 84,
      "metadata": {
        "colab": {
          "base_uri": "https://localhost:8080/"
        },
        "id": "b40c9d37",
        "outputId": "b1de5a14-f7a1-4253-d737-98b0e88e4023"
      },
      "outputs": [
        {
          "output_type": "stream",
          "name": "stdout",
          "text": [
            "[[  878  3330]\n",
            " [   53 12936]]\n"
          ]
        }
      ],
      "source": [
        "from sklearn.metrics import confusion_matrix\n",
        "pre = log.predict(x_test)\n",
        "cm=confusion_matrix(y_true=y_test,y_pred=pre)\n",
        "print(cm)"
      ]
    },
    {
      "cell_type": "code",
      "execution_count": 85,
      "metadata": {
        "id": "0yMaB1pWwW_J"
      },
      "outputs": [],
      "source": [
        "from sklearn import metrics"
      ]
    },
    {
      "cell_type": "code",
      "execution_count": 86,
      "metadata": {
        "colab": {
          "base_uri": "https://localhost:8080/",
          "height": 449
        },
        "id": "DfR94Qp8vUO_",
        "outputId": "8d7972a7-c0ce-4d1b-ee13-9a005eed4be1"
      },
      "outputs": [
        {
          "output_type": "display_data",
          "data": {
            "text/plain": [
              "<Figure size 640x480 with 2 Axes>"
            ],
            "image/png": "[encoded data removed]"
          },
          "metadata": {}
        }
      ],
      "source": [
        "confusion_matrix = metrics.confusion_matrix(y_test, pre)\n",
        "cm_display = metrics.ConfusionMatrixDisplay(confusion_matrix = confusion_matrix, display_labels = [False, True])\n",
        "cm_display.plot()\n",
        "plt.show()"
      ]
    },
    {
      "cell_type": "code",
      "source": [],
      "metadata": {
        "id": "l8zoXH9l8pUu"
      },
      "execution_count": 86,
      "outputs": []
    },
    {
      "cell_type": "code",
      "execution_count": 87,
      "metadata": {
        "id": "pyIHw7UxNhWi"
      },
      "outputs": [],
      "source": [
        "from sklearn.metrics import classification_report\n",
        "predictions = log.predict(x_test)"
      ]
    },
    {
      "cell_type": "code",
      "execution_count": 88,
      "metadata": {
        "colab": {
          "base_uri": "https://localhost:8080/"
        },
        "id": "zu8cFpS3NkWS",
        "outputId": "c7b308db-9b4f-4d33-a02c-94b8c1829bb2"
      },
      "outputs": [
        {
          "output_type": "stream",
          "name": "stdout",
          "text": [
            "              precision    recall  f1-score   support\n",
            "\n",
            "           0       0.94      0.21      0.34      4208\n",
            "           1       0.80      1.00      0.88     12989\n",
            "\n",
            "    accuracy                           0.80     17197\n",
            "   macro avg       0.87      0.60      0.61     17197\n",
            "weighted avg       0.83      0.80      0.75     17197\n",
            "\n"
          ]
        }
      ],
      "source": [
        "print(classification_report(y_test,predictions))"
      ]
    },
    {
      "cell_type": "code",
      "execution_count": 89,
      "metadata": {
        "colab": {
          "base_uri": "https://localhost:8080/"
        },
        "id": "ZyHMBZZHEWIL",
        "outputId": "aedc24b7-03bb-4d68-bb59-9e50efb1534e"
      },
      "outputs": [
        {
          "output_type": "stream",
          "name": "stderr",
          "text": [
            "/usr/local/lib/python3.10/dist-packages/sklearn/linear_model/_sag.py:350: ConvergenceWarning: The max_iter was reached which means the coef_ did not converge\n",
            "  warnings.warn(\n",
            "/usr/local/lib/python3.10/dist-packages/sklearn/linear_model/_sag.py:350: ConvergenceWarning: The max_iter was reached which means the coef_ did not converge\n",
            "  warnings.warn(\n",
            "/usr/local/lib/python3.10/dist-packages/sklearn/linear_model/_sag.py:350: ConvergenceWarning: The max_iter was reached which means the coef_ did not converge\n",
            "  warnings.warn(\n",
            "/usr/local/lib/python3.10/dist-packages/sklearn/linear_model/_sag.py:350: ConvergenceWarning: The max_iter was reached which means the coef_ did not converge\n",
            "  warnings.warn(\n",
            "/usr/local/lib/python3.10/dist-packages/sklearn/linear_model/_sag.py:350: ConvergenceWarning: The max_iter was reached which means the coef_ did not converge\n",
            "  warnings.warn(\n",
            "/usr/local/lib/python3.10/dist-packages/sklearn/linear_model/_sag.py:350: ConvergenceWarning: The max_iter was reached which means the coef_ did not converge\n",
            "  warnings.warn(\n",
            "/usr/local/lib/python3.10/dist-packages/sklearn/linear_model/_sag.py:350: ConvergenceWarning: The max_iter was reached which means the coef_ did not converge\n",
            "  warnings.warn(\n",
            "/usr/local/lib/python3.10/dist-packages/sklearn/linear_model/_sag.py:350: ConvergenceWarning: The max_iter was reached which means the coef_ did not converge\n",
            "  warnings.warn(\n",
            "/usr/local/lib/python3.10/dist-packages/sklearn/linear_model/_sag.py:350: ConvergenceWarning: The max_iter was reached which means the coef_ did not converge\n",
            "  warnings.warn(\n",
            "/usr/local/lib/python3.10/dist-packages/sklearn/linear_model/_sag.py:350: ConvergenceWarning: The max_iter was reached which means the coef_ did not converge\n",
            "  warnings.warn(\n",
            "/usr/local/lib/python3.10/dist-packages/sklearn/linear_model/_sag.py:350: ConvergenceWarning: The max_iter was reached which means the coef_ did not converge\n",
            "  warnings.warn(\n",
            "/usr/local/lib/python3.10/dist-packages/sklearn/linear_model/_sag.py:350: ConvergenceWarning: The max_iter was reached which means the coef_ did not converge\n",
            "  warnings.warn(\n",
            "/usr/local/lib/python3.10/dist-packages/sklearn/linear_model/_sag.py:350: ConvergenceWarning: The max_iter was reached which means the coef_ did not converge\n",
            "  warnings.warn(\n",
            "/usr/local/lib/python3.10/dist-packages/sklearn/linear_model/_sag.py:350: ConvergenceWarning: The max_iter was reached which means the coef_ did not converge\n",
            "  warnings.warn(\n",
            "/usr/local/lib/python3.10/dist-packages/sklearn/linear_model/_sag.py:350: ConvergenceWarning: The max_iter was reached which means the coef_ did not converge\n",
            "  warnings.warn(\n",
            "/usr/local/lib/python3.10/dist-packages/sklearn/linear_model/_sag.py:350: ConvergenceWarning: The max_iter was reached which means the coef_ did not converge\n",
            "  warnings.warn(\n",
            "/usr/local/lib/python3.10/dist-packages/sklearn/linear_model/_sag.py:350: ConvergenceWarning: The max_iter was reached which means the coef_ did not converge\n",
            "  warnings.warn(\n",
            "/usr/local/lib/python3.10/dist-packages/sklearn/linear_model/_sag.py:350: ConvergenceWarning: The max_iter was reached which means the coef_ did not converge\n",
            "  warnings.warn(\n",
            "/usr/local/lib/python3.10/dist-packages/sklearn/linear_model/_sag.py:350: ConvergenceWarning: The max_iter was reached which means the coef_ did not converge\n",
            "  warnings.warn(\n",
            "/usr/local/lib/python3.10/dist-packages/sklearn/linear_model/_sag.py:350: ConvergenceWarning: The max_iter was reached which means the coef_ did not converge\n",
            "  warnings.warn(\n",
            "/usr/local/lib/python3.10/dist-packages/sklearn/linear_model/_sag.py:350: ConvergenceWarning: The max_iter was reached which means the coef_ did not converge\n",
            "  warnings.warn(\n",
            "/usr/local/lib/python3.10/dist-packages/sklearn/linear_model/_sag.py:350: ConvergenceWarning: The max_iter was reached which means the coef_ did not converge\n",
            "  warnings.warn(\n",
            "/usr/local/lib/python3.10/dist-packages/sklearn/linear_model/_sag.py:350: ConvergenceWarning: The max_iter was reached which means the coef_ did not converge\n",
            "  warnings.warn(\n",
            "/usr/local/lib/python3.10/dist-packages/sklearn/linear_model/_sag.py:350: ConvergenceWarning: The max_iter was reached which means the coef_ did not converge\n",
            "  warnings.warn(\n",
            "/usr/local/lib/python3.10/dist-packages/sklearn/linear_model/_sag.py:350: ConvergenceWarning: The max_iter was reached which means the coef_ did not converge\n",
            "  warnings.warn(\n",
            "/usr/local/lib/python3.10/dist-packages/sklearn/linear_model/_sag.py:350: ConvergenceWarning: The max_iter was reached which means the coef_ did not converge\n",
            "  warnings.warn(\n",
            "/usr/local/lib/python3.10/dist-packages/sklearn/linear_model/_sag.py:350: ConvergenceWarning: The max_iter was reached which means the coef_ did not converge\n",
            "  warnings.warn(\n",
            "/usr/local/lib/python3.10/dist-packages/sklearn/linear_model/_sag.py:350: ConvergenceWarning: The max_iter was reached which means the coef_ did not converge\n",
            "  warnings.warn(\n",
            "/usr/local/lib/python3.10/dist-packages/sklearn/linear_model/_sag.py:350: ConvergenceWarning: The max_iter was reached which means the coef_ did not converge\n",
            "  warnings.warn(\n",
            "/usr/local/lib/python3.10/dist-packages/sklearn/linear_model/_sag.py:350: ConvergenceWarning: The max_iter was reached which means the coef_ did not converge\n",
            "  warnings.warn(\n"
          ]
        },
        {
          "output_type": "stream",
          "name": "stdout",
          "text": [
            "Accuracy: 0.8064197243705298\n"
          ]
        }
      ],
      "source": [
        "from sklearn.linear_model import LogisticRegression\n",
        "from sklearn.model_selection import GridSearchCV\n",
        "from sklearn.metrics import accuracy_score\n",
        "\n",
        "# define the logistic regression model\n",
        "logreg = LogisticRegression()\n",
        "\n",
        "# define the grid search parameters\n",
        "param_grid = {\n",
        "    'penalty': ['l1', 'l2'],\n",
        "    'C': [0.1, 1, 10],\n",
        "    'solver': ['liblinear', 'saga']\n",
        "}\n",
        "\n",
        "# define the grid search object\n",
        "grid = GridSearchCV(estimator=logreg, param_grid=param_grid, cv=5)\n",
        "\n",
        "# fit the grid search object to the data\n",
        "grid.fit(x_train, y_train)\n",
        "\n",
        "# get the best model\n",
        "best_logreg = grid.best_estimator_\n",
        "\n",
        "# make predictions with the best model\n",
        "y_predlogreg  = best_logreg.predict(x_test)\n",
        "\n",
        "# evaluate the performance of the best model\n",
        "accuracy = accuracy_score(y_test, y_predlogreg )\n",
        "print('Accuracy:', accuracy)\n"
      ]
    },
    {
      "cell_type": "code",
      "execution_count": 90,
      "metadata": {
        "id": "g0N6XPwr8u7f"
      },
      "outputs": [],
      "source": [
        "from sklearn import metrics"
      ]
    },
    {
      "cell_type": "code",
      "execution_count": 92,
      "metadata": {
        "colab": {
          "base_uri": "https://localhost:8080/",
          "height": 449
        },
        "outputId": "7ad40473-0cc2-49c6-c5e6-3877de7902d3",
        "id": "JfswL_Gh8u7g"
      },
      "outputs": [
        {
          "output_type": "display_data",
          "data": {
            "text/plain": [
              "<Figure size 640x480 with 2 Axes>"
            ],
            "image/png": "[encoded data removed]"
          },
          "metadata": {}
        }
      ],
      "source": [
        "confusion_matrix = metrics.confusion_matrix(y_test, y_predlogreg)\n",
        "cm_display = metrics.ConfusionMatrixDisplay(confusion_matrix = confusion_matrix, display_labels = [False, True])\n",
        "cm_display.plot()\n",
        "plt.show()"
      ]
    },
    {
      "cell_type": "code",
      "execution_count": 93,
      "metadata": {
        "id": "oVvUm8RsqEgb"
      },
      "outputs": [],
      "source": [
        "from sklearn.metrics import classification_report\n",
        "predictionslg = best_logreg .predict(x_test)"
      ]
    },
    {
      "cell_type": "code",
      "execution_count": 94,
      "metadata": {
        "colab": {
          "base_uri": "https://localhost:8080/"
        },
        "outputId": "127569b8-1e5f-44e6-8a59-aeb4c2fc5a05",
        "id": "TYzJsmKZqEgc"
      },
      "outputs": [
        {
          "output_type": "stream",
          "name": "stdout",
          "text": [
            "              precision    recall  f1-score   support\n",
            "\n",
            "           0       0.99      0.21      0.35      4208\n",
            "           1       0.80      1.00      0.89     12989\n",
            "\n",
            "    accuracy                           0.81     17197\n",
            "   macro avg       0.90      0.60      0.62     17197\n",
            "weighted avg       0.84      0.81      0.75     17197\n",
            "\n"
          ]
        }
      ],
      "source": [
        "print(classification_report(y_test,predictionslg))"
      ]
    },
    {
      "cell_type": "code",
      "execution_count": 95,
      "metadata": {
        "id": "sV7ll3beFaR2"
      },
      "outputs": [],
      "source": [
        "\n",
        "from sklearn.tree import DecisionTreeClassifier\n"
      ]
    },
    {
      "cell_type": "code",
      "execution_count": 96,
      "metadata": {
        "colab": {
          "base_uri": "https://localhost:8080/"
        },
        "id": "QJo_tJO5GAN0",
        "outputId": "f4569ef7-af0f-4d0c-f936-00517c1ab8e2"
      },
      "outputs": [
        {
          "output_type": "stream",
          "name": "stdout",
          "text": [
            "              precision    recall  f1-score   support\n",
            "\n",
            "           0       1.00      0.21      0.35      4208\n",
            "           1       0.80      1.00      0.89     12989\n",
            "\n",
            "    accuracy                           0.81     17197\n",
            "   macro avg       0.90      0.61      0.62     17197\n",
            "weighted avg       0.85      0.81      0.75     17197\n",
            "\n"
          ]
        }
      ],
      "source": [
        "\n",
        "\n",
        "# Create a decision tree classifier\n",
        "dtc = DecisionTreeClassifier()\n",
        "\n",
        "# Define the parameter grid to search over\n",
        "param_grid = {\n",
        "    'max_depth': [2, 4, 6, 8],\n",
        "    'min_samples_split': [2, 4, 8, 16],\n",
        "    'min_samples_leaf': [1, 2, 4, 8],\n",
        "    'max_features': ['sqrt', 'log2', None]\n",
        "}\n",
        "\n",
        "# Create a grid search object\n",
        "grid_search = GridSearchCV(dtc, param_grid=param_grid, cv=5)\n",
        "\n",
        "# Fit the grid search object to the training data\n",
        "grid_search.fit(x_train, y_train)\n",
        "\n",
        "# Get the best parameters and score\n",
        "best_params = grid_search.best_params_\n",
        "best_score = grid_search.best_score_\n",
        "\n",
        "# Use the best estimator to predict on the test data\n",
        "y_preddtc = grid_search.best_estimator_.predict(x_test)\n",
        "\n",
        "# Print the classification report\n",
        "print(classification_report(y_test, y_preddtc))\n"
      ]
    },
    {
      "cell_type": "code",
      "execution_count": 97,
      "metadata": {
        "colab": {
          "base_uri": "https://localhost:8080/",
          "height": 449
        },
        "id": "pK4pfBWtFaR4",
        "outputId": "ac582c7e-773c-4318-f5d5-77253fccf130"
      },
      "outputs": [
        {
          "output_type": "display_data",
          "data": {
            "text/plain": [
              "<Figure size 640x480 with 2 Axes>"
            ],
            "image/png": "[encoded data removed]"
          },
          "metadata": {}
        }
      ],
      "source": [
        "confusion_matrix = metrics.confusion_matrix(y_test, y_preddtc)\n",
        "cm_display = metrics.ConfusionMatrixDisplay(confusion_matrix = confusion_matrix, display_labels = [False, True])\n",
        "cm_display.plot()\n",
        "plt.show()"
      ]
    },
    {
      "cell_type": "code",
      "execution_count": 98,
      "metadata": {
        "id": "beBjuC_6FaR5"
      },
      "outputs": [],
      "source": [
        "from sklearn.ensemble import RandomForestClassifier"
      ]
    },
    {
      "cell_type": "code",
      "execution_count": 99,
      "metadata": {
        "id": "CI05KeyGFaR5"
      },
      "outputs": [],
      "source": [
        "# rf = RandomForestClassifier()\n",
        "\n",
        "# # define parameter grid\n",
        "# param_grid_rf = {'n_estimators': [100, 200, 300],\n",
        "#                  'max_depth': [2, 4, 6, 8, 10],\n",
        "#                  'min_samples_split': [2, 4, 6, 8, 10]}\n",
        "\n",
        "# # perform grid search cross-validation\n",
        "# grid_search_rf = GridSearchCV(rf, param_grid_rf, cv=5, scoring='accuracy')\n",
        "# grid_search_rf.fit(x_train, y_train)\n",
        "\n"
      ]
    },
    {
      "cell_type": "code",
      "source": [
        "# # get best hyperparameters and score\n",
        "# best_params_rf = grid_search_rf.best_params_\n",
        "# best_score_rf = grid_search_rf.best_score_\n",
        "\n",
        "# # fit model with best hyperparameters\n",
        "# rf_best = RandomForestClassifier(**best_params_rf)\n",
        "# rf_best.fit(x_train, y_train)"
      ],
      "metadata": {
        "id": "8300K25grPqi"
      },
      "execution_count": 100,
      "outputs": []
    },
    {
      "cell_type": "code",
      "execution_count": 101,
      "metadata": {
        "id": "lsji0PjTFaR5"
      },
      "outputs": [],
      "source": [
        "# y_predrf = rf_best.fit(x_test)\n",
        "# print(\"Accuracy score:\", accuracy_score(y_test, y_predrf))\n",
        "# print(\"Classification report:\\n\", classification_report(y_test, y_predrf))\n",
        "\n"
      ]
    },
    {
      "cell_type": "code",
      "source": [
        "rfc = RandomForestClassifier(random_state=42)\n",
        "\n",
        "rfc.fit(x_train, y_train)\n",
        "\n",
        "\n",
        "y_predrfc = rfc.predict(x_test)\n",
        "\n",
        "\n",
        "print(f\"Accuracy score: {accuracy_score(y_test, y_predrfc)}\")\n",
        "print(classification_report(y_test, y_predrfc))\n"
      ],
      "metadata": {
        "colab": {
          "base_uri": "https://localhost:8080/"
        },
        "id": "xaL1QKOisFfh",
        "outputId": "92a9d6ad-e9dd-4465-9976-398f7f2a6a6a"
      },
      "execution_count": 102,
      "outputs": [
        {
          "output_type": "stream",
          "name": "stdout",
          "text": [
            "Accuracy score: 0.784497296040007\n",
            "              precision    recall  f1-score   support\n",
            "\n",
            "           0       0.63      0.29      0.40      4208\n",
            "           1       0.81      0.94      0.87     12989\n",
            "\n",
            "    accuracy                           0.78     17197\n",
            "   macro avg       0.72      0.62      0.63     17197\n",
            "weighted avg       0.76      0.78      0.75     17197\n",
            "\n"
          ]
        }
      ]
    },
    {
      "cell_type": "code",
      "execution_count": 103,
      "metadata": {
        "colab": {
          "base_uri": "https://localhost:8080/",
          "height": 449
        },
        "id": "cAQ_nzmxFaR6",
        "outputId": "40682cea-14e7-472d-98bf-a1cb56162331"
      },
      "outputs": [
        {
          "output_type": "display_data",
          "data": {
            "text/plain": [
              "<Figure size 640x480 with 2 Axes>"
            ],
            "image/png": "[encoded data removed]"
          },
          "metadata": {}
        }
      ],
      "source": [
        "confusion_matrix = metrics.confusion_matrix(y_test, y_predrfc)\n",
        "cm_display = metrics.ConfusionMatrixDisplay(confusion_matrix = confusion_matrix, display_labels = [False, True])\n",
        "cm_display.plot()\n",
        "plt.show()"
      ]
    },
    {
      "cell_type": "code",
      "execution_count": 104,
      "metadata": {
        "id": "A5GyVoSrFaR9"
      },
      "outputs": [],
      "source": [
        "from sklearn.neighbors import KNeighborsClassifier"
      ]
    },
    {
      "cell_type": "code",
      "execution_count": 105,
      "metadata": {
        "id": "ObUEJ7a_FaR9",
        "colab": {
          "base_uri": "https://localhost:8080/",
          "height": 74
        },
        "outputId": "7e98f782-7f11-4d25-fa8d-e336045eb0c4"
      },
      "outputs": [
        {
          "output_type": "execute_result",
          "data": {
            "text/plain": [
              "KNeighborsClassifier()"
            ],
            "text/html": [
              "<style>#sk-container-id-2 {color: black;background-color: white;}#sk-container-id-2 pre{padding: 0;}#sk-container-id-2 div.sk-toggleable {background-color: white;}#sk-container-id-2 label.sk-toggleable__label {cursor: pointer;display: block;width: 100%;margin-bottom: 0;padding: 0.3em;box-sizing: border-box;text-align: center;}#sk-container-id-2 label.sk-toggleable__label-arrow:before {content: \"▸\";float: left;margin-right: 0.25em;color: #696969;}#sk-container-id-2 label.sk-toggleable__label-arrow:hover:before {color: black;}#sk-container-id-2 div.sk-estimator:hover label.sk-toggleable__label-arrow:before {color: black;}#sk-container-id-2 div.sk-toggleable__content {max-height: 0;max-width: 0;overflow: hidden;text-align: left;background-color: #f0f8ff;}#sk-container-id-2 div.sk-toggleable__content pre {margin: 0.2em;color: black;border-radius: 0.25em;background-color: #f0f8ff;}#sk-container-id-2 input.sk-toggleable__control:checked~div.sk-toggleable__content {max-height: 200px;max-width: 100%;overflow: auto;}#sk-container-id-2 input.sk-toggleable__control:checked~label.sk-toggleable__label-arrow:before {content: \"▾\";}#sk-container-id-2 div.sk-estimator input.sk-toggleable__control:checked~label.sk-toggleable__label {background-color: #d4ebff;}#sk-container-id-2 div.sk-label input.sk-toggleable__control:checked~label.sk-toggleable__label {background-color: #d4ebff;}#sk-container-id-2 input.sk-hidden--visually {border: 0;clip: rect(1px 1px 1px 1px);clip: rect(1px, 1px, 1px, 1px);height: 1px;margin: -1px;overflow: hidden;padding: 0;position: absolute;width: 1px;}#sk-container-id-2 div.sk-estimator {font-family: monospace;background-color: #f0f8ff;border: 1px dotted black;border-radius: 0.25em;box-sizing: border-box;margin-bottom: 0.5em;}#sk-container-id-2 div.sk-estimator:hover {background-color: #d4ebff;}#sk-container-id-2 div.sk-parallel-item::after {content: \"\";width: 100%;border-bottom: 1px solid gray;flex-grow: 1;}#sk-container-id-2 div.sk-label:hover label.sk-toggleable__label {background-color: #d4ebff;}#sk-container-id-2 div.sk-serial::before {content: \"\";position: absolute;border-left: 1px solid gray;box-sizing: border-box;top: 0;bottom: 0;left: 50%;z-index: 0;}#sk-container-id-2 div.sk-serial {display: flex;flex-direction: column;align-items: center;background-color: white;padding-right: 0.2em;padding-left: 0.2em;position: relative;}#sk-container-id-2 div.sk-item {position: relative;z-index: 1;}#sk-container-id-2 div.sk-parallel {display: flex;align-items: stretch;justify-content: center;background-color: white;position: relative;}#sk-container-id-2 div.sk-item::before, #sk-container-id-2 div.sk-parallel-item::before {content: \"\";position: absolute;border-left: 1px solid gray;box-sizing: border-box;top: 0;bottom: 0;left: 50%;z-index: -1;}#sk-container-id-2 div.sk-parallel-item {display: flex;flex-direction: column;z-index: 1;position: relative;background-color: white;}#sk-container-id-2 div.sk-parallel-item:first-child::after {align-self: flex-end;width: 50%;}#sk-container-id-2 div.sk-parallel-item:last-child::after {align-self: flex-start;width: 50%;}#sk-container-id-2 div.sk-parallel-item:only-child::after {width: 0;}#sk-container-id-2 div.sk-dashed-wrapped {border: 1px dashed gray;margin: 0 0.4em 0.5em 0.4em;box-sizing: border-box;padding-bottom: 0.4em;background-color: white;}#sk-container-id-2 div.sk-label label {font-family: monospace;font-weight: bold;display: inline-block;line-height: 1.2em;}#sk-container-id-2 div.sk-label-container {text-align: center;}#sk-container-id-2 div.sk-container {/* jupyter's `normalize.less` sets `[hidden] { display: none; }` but bootstrap.min.css set `[hidden] { display: none !important; }` so we also need the `!important` here to be able to override the default hidden behavior on the sphinx rendered scikit-learn.org. See: https://github.com/scikit-learn/scikit-learn/issues/21755 */display: inline-block !important;position: relative;}#sk-container-id-2 div.sk-text-repr-fallback {display: none;}</style><div id=\"sk-container-id-2\" class=\"sk-top-container\"><div class=\"sk-text-repr-fallback\"><pre>KNeighborsClassifier()</pre><b>In a Jupyter environment, please rerun this cell to show the HTML representation or trust the notebook. <br />On GitHub, the HTML representation is unable to render, please try loading this page with nbviewer.org.</b></div><div class=\"sk-container\" hidden><div class=\"sk-item\"><div class=\"sk-estimator sk-toggleable\"><input class=\"sk-toggleable__control sk-hidden--visually\" id=\"sk-estimator-id-2\" type=\"checkbox\" checked><label for=\"sk-estimator-id-2\" class=\"sk-toggleable__label sk-toggleable__label-arrow\">KNeighborsClassifier</label><div class=\"sk-toggleable__content\"><pre>KNeighborsClassifier()</pre></div></div></div></div></div>"
            ]
          },
          "metadata": {},
          "execution_count": 105
        }
      ],
      "source": [
        "knn = KNeighborsClassifier()\n",
        "knn.fit(x_train, y_train)"
      ]
    },
    {
      "cell_type": "code",
      "execution_count": 106,
      "metadata": {
        "id": "nvh3zJn2FaR-",
        "colab": {
          "base_uri": "https://localhost:8080/"
        },
        "outputId": "27d94c85-19f5-42d6-9283-ac10feb9ebf1"
      },
      "outputs": [
        {
          "output_type": "execute_result",
          "data": {
            "text/plain": [
              "0.8125781409007647"
            ]
          },
          "metadata": {},
          "execution_count": 106
        }
      ],
      "source": [
        "knn.score(x_train , y_train)"
      ]
    },
    {
      "cell_type": "code",
      "execution_count": 107,
      "metadata": {
        "id": "xXbKU3IzFaR-",
        "colab": {
          "base_uri": "https://localhost:8080/"
        },
        "outputId": "8c5579be-6329-417b-c710-5c6278642a4a"
      },
      "outputs": [
        {
          "output_type": "execute_result",
          "data": {
            "text/plain": [
              "0.7627493167412921"
            ]
          },
          "metadata": {},
          "execution_count": 107
        }
      ],
      "source": [
        "knn.score(x_test , y_test)\n"
      ]
    },
    {
      "cell_type": "code",
      "execution_count": 108,
      "metadata": {
        "id": "KhYEVMBYc8Dy",
        "colab": {
          "base_uri": "https://localhost:8080/"
        },
        "outputId": "5afb5317-b9db-47bd-97a1-2f15f91539eb"
      },
      "outputs": [
        {
          "output_type": "stream",
          "name": "stdout",
          "text": [
            "              precision    recall  f1-score   support\n",
            "\n",
            "           0       0.53      0.25      0.34      4208\n",
            "           1       0.79      0.93      0.86     12989\n",
            "\n",
            "    accuracy                           0.76     17197\n",
            "   macro avg       0.66      0.59      0.60     17197\n",
            "weighted avg       0.73      0.76      0.73     17197\n",
            "\n"
          ]
        }
      ],
      "source": [
        "pred_knn= knn.predict(x_test)\n",
        "print(classification_report(y_test, pred_knn))\n"
      ]
    },
    {
      "cell_type": "code",
      "source": [
        "confusion_matrix = metrics.confusion_matrix(y_test, pred_knn)\n",
        "cm_display = metrics.ConfusionMatrixDisplay(confusion_matrix = confusion_matrix, display_labels = [False, True])\n",
        "cm_display.plot()\n",
        "plt.show()"
      ],
      "metadata": {
        "colab": {
          "base_uri": "https://localhost:8080/",
          "height": 453
        },
        "id": "KCgp55dU9Pap",
        "outputId": "9bf9feaf-63af-4815-826d-508bbaedbf00"
      },
      "execution_count": 109,
      "outputs": [
        {
          "output_type": "display_data",
          "data": {
            "text/plain": [
              "<Figure size 640x480 with 2 Axes>"
            ],
            "image/png": "[encoded data removed]"
          },
          "metadata": {}
        }
      ]
    },
    {
      "cell_type": "code",
      "execution_count": 110,
      "metadata": {
        "id": "df8kn4OGFaR_"
      },
      "outputs": [],
      "source": [
        "from xgboost import XGBClassifier"
      ]
    },
    {
      "cell_type": "code",
      "execution_count": 111,
      "metadata": {
        "id": "I19P_onFFaR_"
      },
      "outputs": [],
      "source": [
        "xgb = XGBClassifier()\n",
        "# xgb.fit(x_train, y_train)"
      ]
    },
    {
      "cell_type": "code",
      "execution_count": 112,
      "metadata": {
        "id": "s7OWXOpnFaSA",
        "colab": {
          "base_uri": "https://localhost:8080/",
          "height": 248
        },
        "outputId": "657cde89-df66-4f85-ac0c-53693af84b91"
      },
      "outputs": [
        {
          "output_type": "execute_result",
          "data": {
            "text/plain": [
              "XGBClassifier(base_score=None, booster=None, callbacks=None,\n",
              "              colsample_bylevel=None, colsample_bynode=None,\n",
              "              colsample_bytree=None, early_stopping_rounds=None,\n",
              "              enable_categorical=False, eval_metric=None, feature_types=None,\n",
              "              gamma=None, gpu_id=None, grow_policy=None, importance_type=None,\n",
              "              interaction_constraints=None, learning_rate=None, max_bin=None,\n",
              "              max_cat_threshold=None, max_cat_to_onehot=None,\n",
              "              max_delta_step=None, max_depth=None, max_leaves=None,\n",
              "              min_child_weight=None, missing=nan, monotone_constraints=None,\n",
              "              n_estimators=100, n_jobs=None, num_parallel_tree=None,\n",
              "              predictor=None, random_state=None, ...)"
            ],
            "text/html": [
              "<style>#sk-container-id-3 {color: black;background-color: white;}#sk-container-id-3 pre{padding: 0;}#sk-container-id-3 div.sk-toggleable {background-color: white;}#sk-container-id-3 label.sk-toggleable__label {cursor: pointer;display: block;width: 100%;margin-bottom: 0;padding: 0.3em;box-sizing: border-box;text-align: center;}#sk-container-id-3 label.sk-toggleable__label-arrow:before {content: \"▸\";float: left;margin-right: 0.25em;color: #696969;}#sk-container-id-3 label.sk-toggleable__label-arrow:hover:before {color: black;}#sk-container-id-3 div.sk-estimator:hover label.sk-toggleable__label-arrow:before {color: black;}#sk-container-id-3 div.sk-toggleable__content {max-height: 0;max-width: 0;overflow: hidden;text-align: left;background-color: #f0f8ff;}#sk-container-id-3 div.sk-toggleable__content pre {margin: 0.2em;color: black;border-radius: 0.25em;background-color: #f0f8ff;}#sk-container-id-3 input.sk-toggleable__control:checked~div.sk-toggleable__content {max-height: 200px;max-width: 100%;overflow: auto;}#sk-container-id-3 input.sk-toggleable__control:checked~label.sk-toggleable__label-arrow:before {content: \"▾\";}#sk-container-id-3 div.sk-estimator input.sk-toggleable__control:checked~label.sk-toggleable__label {background-color: #d4ebff;}#sk-container-id-3 div.sk-label input.sk-toggleable__control:checked~label.sk-toggleable__label {background-color: #d4ebff;}#sk-container-id-3 input.sk-hidden--visually {border: 0;clip: rect(1px 1px 1px 1px);clip: rect(1px, 1px, 1px, 1px);height: 1px;margin: -1px;overflow: hidden;padding: 0;position: absolute;width: 1px;}#sk-container-id-3 div.sk-estimator {font-family: monospace;background-color: #f0f8ff;border: 1px dotted black;border-radius: 0.25em;box-sizing: border-box;margin-bottom: 0.5em;}#sk-container-id-3 div.sk-estimator:hover {background-color: #d4ebff;}#sk-container-id-3 div.sk-parallel-item::after {content: \"\";width: 100%;border-bottom: 1px solid gray;flex-grow: 1;}#sk-container-id-3 div.sk-label:hover label.sk-toggleable__label {background-color: #d4ebff;}#sk-container-id-3 div.sk-serial::before {content: \"\";position: absolute;border-left: 1px solid gray;box-sizing: border-box;top: 0;bottom: 0;left: 50%;z-index: 0;}#sk-container-id-3 div.sk-serial {display: flex;flex-direction: column;align-items: center;background-color: white;padding-right: 0.2em;padding-left: 0.2em;position: relative;}#sk-container-id-3 div.sk-item {position: relative;z-index: 1;}#sk-container-id-3 div.sk-parallel {display: flex;align-items: stretch;justify-content: center;background-color: white;position: relative;}#sk-container-id-3 div.sk-item::before, #sk-container-id-3 div.sk-parallel-item::before {content: \"\";position: absolute;border-left: 1px solid gray;box-sizing: border-box;top: 0;bottom: 0;left: 50%;z-index: -1;}#sk-container-id-3 div.sk-parallel-item {display: flex;flex-direction: column;z-index: 1;position: relative;background-color: white;}#sk-container-id-3 div.sk-parallel-item:first-child::after {align-self: flex-end;width: 50%;}#sk-container-id-3 div.sk-parallel-item:last-child::after {align-self: flex-start;width: 50%;}#sk-container-id-3 div.sk-parallel-item:only-child::after {width: 0;}#sk-container-id-3 div.sk-dashed-wrapped {border: 1px dashed gray;margin: 0 0.4em 0.5em 0.4em;box-sizing: border-box;padding-bottom: 0.4em;background-color: white;}#sk-container-id-3 div.sk-label label {font-family: monospace;font-weight: bold;display: inline-block;line-height: 1.2em;}#sk-container-id-3 div.sk-label-container {text-align: center;}#sk-container-id-3 div.sk-container {/* jupyter's `normalize.less` sets `[hidden] { display: none; }` but bootstrap.min.css set `[hidden] { display: none !important; }` so we also need the `!important` here to be able to override the default hidden behavior on the sphinx rendered scikit-learn.org. See: https://github.com/scikit-learn/scikit-learn/issues/21755 */display: inline-block !important;position: relative;}#sk-container-id-3 div.sk-text-repr-fallback {display: none;}</style><div id=\"sk-container-id-3\" class=\"sk-top-container\"><div class=\"sk-text-repr-fallback\"><pre>XGBClassifier(base_score=None, booster=None, callbacks=None,\n",
              "              colsample_bylevel=None, colsample_bynode=None,\n",
              "              colsample_bytree=None, early_stopping_rounds=None,\n",
              "              enable_categorical=False, eval_metric=None, feature_types=None,\n",
              "              gamma=None, gpu_id=None, grow_policy=None, importance_type=None,\n",
              "              interaction_constraints=None, learning_rate=None, max_bin=None,\n",
              "              max_cat_threshold=None, max_cat_to_onehot=None,\n",
              "              max_delta_step=None, max_depth=None, max_leaves=None,\n",
              "              min_child_weight=None, missing=nan, monotone_constraints=None,\n",
              "              n_estimators=100, n_jobs=None, num_parallel_tree=None,\n",
              "              predictor=None, random_state=None, ...)</pre><b>In a Jupyter environment, please rerun this cell to show the HTML representation or trust the notebook. <br />On GitHub, the HTML representation is unable to render, please try loading this page with nbviewer.org.</b></div><div class=\"sk-container\" hidden><div class=\"sk-item\"><div class=\"sk-estimator sk-toggleable\"><input class=\"sk-toggleable__control sk-hidden--visually\" id=\"sk-estimator-id-3\" type=\"checkbox\" checked><label for=\"sk-estimator-id-3\" class=\"sk-toggleable__label sk-toggleable__label-arrow\">XGBClassifier</label><div class=\"sk-toggleable__content\"><pre>XGBClassifier(base_score=None, booster=None, callbacks=None,\n",
              "              colsample_bylevel=None, colsample_bynode=None,\n",
              "              colsample_bytree=None, early_stopping_rounds=None,\n",
              "              enable_categorical=False, eval_metric=None, feature_types=None,\n",
              "              gamma=None, gpu_id=None, grow_policy=None, importance_type=None,\n",
              "              interaction_constraints=None, learning_rate=None, max_bin=None,\n",
              "              max_cat_threshold=None, max_cat_to_onehot=None,\n",
              "              max_delta_step=None, max_depth=None, max_leaves=None,\n",
              "              min_child_weight=None, missing=nan, monotone_constraints=None,\n",
              "              n_estimators=100, n_jobs=None, num_parallel_tree=None,\n",
              "              predictor=None, random_state=None, ...)</pre></div></div></div></div></div>"
            ]
          },
          "metadata": {},
          "execution_count": 112
        }
      ],
      "source": [
        "xgb.fit(x_train, y_train)"
      ]
    },
    {
      "cell_type": "code",
      "execution_count": 113,
      "metadata": {
        "id": "dbG5VSI3EcxY",
        "colab": {
          "base_uri": "https://localhost:8080/"
        },
        "outputId": "5cf47fac-dd71-41af-8ac2-5f5e0c67a4a4"
      },
      "outputs": [
        {
          "output_type": "stream",
          "name": "stdout",
          "text": [
            "              precision    recall  f1-score   support\n",
            "\n",
            "           0       0.90      0.23      0.36      4208\n",
            "           1       0.80      0.99      0.88     12989\n",
            "\n",
            "    accuracy                           0.80     17197\n",
            "   macro avg       0.85      0.61      0.62     17197\n",
            "weighted avg       0.82      0.80      0.76     17197\n",
            "\n"
          ]
        }
      ],
      "source": [
        "pred_xgb= xgb.predict(x_test)\n",
        "print(classification_report(y_test, pred_xgb))\n"
      ]
    },
    {
      "cell_type": "code",
      "source": [
        "confusion_matrix = metrics.confusion_matrix(y_test, pred_xgb)\n",
        "cm_display = metrics.ConfusionMatrixDisplay(confusion_matrix = confusion_matrix, display_labels = [False, True])\n",
        "cm_display.plot()\n",
        "plt.show()"
      ],
      "metadata": {
        "colab": {
          "base_uri": "https://localhost:8080/",
          "height": 449
        },
        "id": "MivsKtAH9oNx",
        "outputId": "96e47484-280a-41c4-861c-a08627876b5d"
      },
      "execution_count": 114,
      "outputs": [
        {
          "output_type": "display_data",
          "data": {
            "text/plain": [
              "<Figure size 640x480 with 2 Axes>"
            ],
            "image/png": "[encoded data removed]"
          },
          "metadata": {}
        }
      ]
    },
    {
      "cell_type": "code",
      "source": [
        "import pickle\n",
        "pickle_out=open(\"rfc.pkl\",\"wb\")\n",
        "pickle.dump(rfc,pickle_out)\n",
        "pickle_out.close()"
      ],
      "metadata": {
        "id": "wxerN6Hs1POU"
      },
      "execution_count": 115,
      "outputs": []
    },
    {
      "cell_type": "code",
      "source": [],
      "metadata": {
        "id": "bOC-f_FS_pkZ"
      },
      "execution_count": null,
      "outputs": []
    }
  ],
  "metadata": {
    "colab": {
      "provenance": []
    },
    "kernelspec": {
      "display_name": "Python 3",
      "name": "python3"
    },
    "language_info": {
      "name": "python"
    }
  },
  "nbformat": 4,
  "nbformat_minor": 0
}